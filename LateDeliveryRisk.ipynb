{
 "cells": [
  {
   "cell_type": "markdown",
   "id": "86ab4b02-eb92-4695-83b5-d5c9d78ad2db",
   "metadata": {},
   "source": [
    "# Late delivery risk"
   ]
  },
  {
   "cell_type": "markdown",
   "id": "4748a225-d358-4880-a89a-5cc2ec6d20bc",
   "metadata": {
    "tags": []
   },
   "source": [
    "## Load data"
   ]
  },
  {
   "cell_type": "code",
   "execution_count": 2,
   "id": "9471a55d-4ca9-4b20-ac08-6203ba00c9d4",
   "metadata": {},
   "outputs": [],
   "source": [
    "import pandas as pd\n",
    "import numpy as np\n",
    "import seaborn as sns\n",
    "import matplotlib.pyplot as plt"
   ]
  },
  {
   "cell_type": "code",
   "execution_count": 3,
   "id": "ca8feff8-cb0a-4ef4-988d-670aa5012541",
   "metadata": {},
   "outputs": [],
   "source": [
    "MainTable = pd.read_csv(\"/Users/ghostpc/Downloads/DataCo SMART SUPPLY CHAIN FOR BIG DATA ANALYSIS/CleanedData.csv\", encoding='ISO-8859-1')"
   ]
  },
  {
   "cell_type": "code",
   "execution_count": 4,
   "id": "f7f485f1-7faa-4e8c-9d4c-45a01629e48c",
   "metadata": {},
   "outputs": [
    {
     "data": {
      "text/plain": [
       "Index(['Type', 'Days for shipping (real)', 'Days for shipment (scheduled)',\n",
       "       'Benefit per order', 'Sales per customer', 'Delivery Status',\n",
       "       'Late_delivery_risk', 'Category Name', 'Customer City',\n",
       "       'Customer Country', 'Customer Segment', 'Customer State',\n",
       "       'Department Name', 'Market', 'Order City', 'Order Country',\n",
       "       'order date (DateOrders)', 'Order Item Discount',\n",
       "       'Order Item Discount Rate', 'Order Item Product Price',\n",
       "       'Order Item Profit Ratio', 'Order Item Quantity', 'Sales',\n",
       "       'Order Item Total', 'Order Profit Per Order', 'Order Region',\n",
       "       'Order State', 'Order Status', 'Product Name', 'Product Price',\n",
       "       'Product Status', 'shipping date (DateOrders)', 'Shipping Mode'],\n",
       "      dtype='object')"
      ]
     },
     "execution_count": 4,
     "metadata": {},
     "output_type": "execute_result"
    }
   ],
   "source": [
    "MainTable.columns"
   ]
  },
  {
   "cell_type": "code",
   "execution_count": 6,
   "id": "63ecd847-c801-4c4f-bc44-f0116606bd58",
   "metadata": {},
   "outputs": [
    {
     "data": {
      "text/plain": [
       "<AxesSubplot:xlabel='Delivery Status'>"
      ]
     },
     "execution_count": 6,
     "metadata": {},
     "output_type": "execute_result"
    },
    {
     "data": {
      "image/png": "[encoded data removed]",
      "text/plain": [
       "<Figure size 432x288 with 1 Axes>"
      ]
     },
     "metadata": {
      "needs_background": "light"
     },
     "output_type": "display_data"
    }
   ],
   "source": [
    "MainTable.groupby('Delivery Status').size().plot.bar()"
   ]
  },
  {
   "cell_type": "code",
   "execution_count": 7,
   "id": "e412828a-24d2-4ffb-b6b3-3d3569f977e9",
   "metadata": {},
   "outputs": [
    {
     "data": {
      "text/plain": [
       "Delivery Status\n",
       "Advance shipping     41592\n",
       "Late delivery        98977\n",
       "Shipping canceled     7754\n",
       "Shipping on time     32196\n",
       "dtype: int64"
      ]
     },
     "execution_count": 7,
     "metadata": {},
     "output_type": "execute_result"
    }
   ],
   "source": [
    "MainTable.groupby('Delivery Status').size()"
   ]
  },
  {
   "cell_type": "code",
   "execution_count": 7,
   "id": "b48464a5-bc5f-4acd-af68-cefb86a23e0c",
   "metadata": {},
   "outputs": [
    {
     "data": {
      "text/plain": [
       "Type    180519\n",
       "dtype: int64"
      ]
     },
     "execution_count": 7,
     "metadata": {},
     "output_type": "execute_result"
    }
   ],
   "source": [
    "MainTable.count().head(1)"
   ]
  },
  {
   "cell_type": "markdown",
   "id": "08915e2c-cb8a-4d94-88c5-46c195713b3e",
   "metadata": {},
   "source": [
    "<b> Around 55% of the total order are late for delivery </b>"
   ]
  },
  {
   "cell_type": "code",
   "execution_count": 8,
   "id": "3a83186f-e55e-4257-a04d-c214321d5ccf",
   "metadata": {},
   "outputs": [
    {
     "data": {
      "text/plain": [
       "0.5482913155955883"
      ]
     },
     "execution_count": 8,
     "metadata": {},
     "output_type": "execute_result"
    }
   ],
   "source": [
    "98977/180519"
   ]
  },
  {
   "cell_type": "markdown",
   "id": "d64d714f-7b95-432e-b014-2a21d53e5bf7",
   "metadata": {
    "tags": []
   },
   "source": [
    "## Rows with Late deliveries"
   ]
  },
  {
   "cell_type": "code",
   "execution_count": 9,
   "id": "be9dda6d-5eeb-494a-a4bf-2547829e131b",
   "metadata": {},
   "outputs": [
    {
     "data": {
      "text/html": [
       "<div>\n",
       "<style scoped>\n",
       "    .dataframe tbody tr th:only-of-type {\n",
       "        vertical-align: middle;\n",
       "    }\n",
       "\n",
       "    .dataframe tbody tr th {\n",
       "        vertical-align: top;\n",
       "    }\n",
       "\n",
       "    .dataframe thead th {\n",
       "        text-align: right;\n",
       "    }\n",
       "</style>\n",
       "<table border=\"1\" class=\"dataframe\">\n",
       "  <thead>\n",
       "    <tr style=\"text-align: right;\">\n",
       "      <th></th>\n",
       "      <th>Type</th>\n",
       "      <th>Days for shipping (real)</th>\n",
       "      <th>Days for shipment (scheduled)</th>\n",
       "      <th>Benefit per order</th>\n",
       "      <th>Sales per customer</th>\n",
       "      <th>Delivery Status</th>\n",
       "      <th>Late_delivery_risk</th>\n",
       "      <th>Category Name</th>\n",
       "      <th>Customer City</th>\n",
       "      <th>Customer Country</th>\n",
       "      <th>...</th>\n",
       "      <th>Order Item Total</th>\n",
       "      <th>Order Profit Per Order</th>\n",
       "      <th>Order Region</th>\n",
       "      <th>Order State</th>\n",
       "      <th>Order Status</th>\n",
       "      <th>Product Name</th>\n",
       "      <th>Product Price</th>\n",
       "      <th>Product Status</th>\n",
       "      <th>shipping date (DateOrders)</th>\n",
       "      <th>Shipping Mode</th>\n",
       "    </tr>\n",
       "  </thead>\n",
       "  <tbody>\n",
       "    <tr>\n",
       "      <th>1</th>\n",
       "      <td>TRANSFER</td>\n",
       "      <td>5</td>\n",
       "      <td>4</td>\n",
       "      <td>-79.700005</td>\n",
       "      <td>311.359985</td>\n",
       "      <td>Late delivery</td>\n",
       "      <td>1</td>\n",
       "      <td>Sporting Goods</td>\n",
       "      <td>Caguas</td>\n",
       "      <td>Puerto Rico</td>\n",
       "      <td>...</td>\n",
       "      <td>311.359985</td>\n",
       "      <td>-79.700005</td>\n",
       "      <td>South Asia</td>\n",
       "      <td>RajastÃ¡n</td>\n",
       "      <td>PENDING</td>\n",
       "      <td>Smart watch</td>\n",
       "      <td>327.75</td>\n",
       "      <td>0</td>\n",
       "      <td>1/18/2018 12:27</td>\n",
       "      <td>Standard Class</td>\n",
       "    </tr>\n",
       "    <tr>\n",
       "      <th>6</th>\n",
       "      <td>DEBIT</td>\n",
       "      <td>2</td>\n",
       "      <td>1</td>\n",
       "      <td>95.180000</td>\n",
       "      <td>288.420013</td>\n",
       "      <td>Late delivery</td>\n",
       "      <td>1</td>\n",
       "      <td>Sporting Goods</td>\n",
       "      <td>Caguas</td>\n",
       "      <td>Puerto Rico</td>\n",
       "      <td>...</td>\n",
       "      <td>288.420013</td>\n",
       "      <td>95.180000</td>\n",
       "      <td>Eastern Asia</td>\n",
       "      <td>Guangdong</td>\n",
       "      <td>COMPLETE</td>\n",
       "      <td>Smart watch</td>\n",
       "      <td>327.75</td>\n",
       "      <td>0</td>\n",
       "      <td>1/15/2018 10:42</td>\n",
       "      <td>First Class</td>\n",
       "    </tr>\n",
       "    <tr>\n",
       "      <th>7</th>\n",
       "      <td>TRANSFER</td>\n",
       "      <td>2</td>\n",
       "      <td>1</td>\n",
       "      <td>68.430000</td>\n",
       "      <td>285.140015</td>\n",
       "      <td>Late delivery</td>\n",
       "      <td>1</td>\n",
       "      <td>Sporting Goods</td>\n",
       "      <td>Miami</td>\n",
       "      <td>EE. UU.</td>\n",
       "      <td>...</td>\n",
       "      <td>285.140015</td>\n",
       "      <td>68.430000</td>\n",
       "      <td>Eastern Asia</td>\n",
       "      <td>Guangdong</td>\n",
       "      <td>PROCESSING</td>\n",
       "      <td>Smart watch</td>\n",
       "      <td>327.75</td>\n",
       "      <td>0</td>\n",
       "      <td>1/15/2018 10:21</td>\n",
       "      <td>First Class</td>\n",
       "    </tr>\n",
       "    <tr>\n",
       "      <th>8</th>\n",
       "      <td>CASH</td>\n",
       "      <td>3</td>\n",
       "      <td>2</td>\n",
       "      <td>133.720001</td>\n",
       "      <td>278.589996</td>\n",
       "      <td>Late delivery</td>\n",
       "      <td>1</td>\n",
       "      <td>Sporting Goods</td>\n",
       "      <td>Caguas</td>\n",
       "      <td>Puerto Rico</td>\n",
       "      <td>...</td>\n",
       "      <td>278.589996</td>\n",
       "      <td>133.720001</td>\n",
       "      <td>Eastern Asia</td>\n",
       "      <td>Guangdong</td>\n",
       "      <td>CLOSED</td>\n",
       "      <td>Smart watch</td>\n",
       "      <td>327.75</td>\n",
       "      <td>0</td>\n",
       "      <td>1/16/2018 10:00</td>\n",
       "      <td>Second Class</td>\n",
       "    </tr>\n",
       "    <tr>\n",
       "      <th>9</th>\n",
       "      <td>CASH</td>\n",
       "      <td>2</td>\n",
       "      <td>1</td>\n",
       "      <td>132.149994</td>\n",
       "      <td>275.309998</td>\n",
       "      <td>Late delivery</td>\n",
       "      <td>1</td>\n",
       "      <td>Sporting Goods</td>\n",
       "      <td>San Ramon</td>\n",
       "      <td>EE. UU.</td>\n",
       "      <td>...</td>\n",
       "      <td>275.309998</td>\n",
       "      <td>132.149994</td>\n",
       "      <td>Eastern Asia</td>\n",
       "      <td>Guangdong</td>\n",
       "      <td>CLOSED</td>\n",
       "      <td>Smart watch</td>\n",
       "      <td>327.75</td>\n",
       "      <td>0</td>\n",
       "      <td>1/15/2018 9:39</td>\n",
       "      <td>First Class</td>\n",
       "    </tr>\n",
       "  </tbody>\n",
       "</table>\n",
       "<p>5 rows × 33 columns</p>\n",
       "</div>"
      ],
      "text/plain": [
       "       Type  Days for shipping (real)  Days for shipment (scheduled)  \\\n",
       "1  TRANSFER                         5                              4   \n",
       "6     DEBIT                         2                              1   \n",
       "7  TRANSFER                         2                              1   \n",
       "8      CASH                         3                              2   \n",
       "9      CASH                         2                              1   \n",
       "\n",
       "   Benefit per order  Sales per customer Delivery Status  Late_delivery_risk  \\\n",
       "1         -79.700005          311.359985   Late delivery                   1   \n",
       "6          95.180000          288.420013   Late delivery                   1   \n",
       "7          68.430000          285.140015   Late delivery                   1   \n",
       "8         133.720001          278.589996   Late delivery                   1   \n",
       "9         132.149994          275.309998   Late delivery                   1   \n",
       "\n",
       "    Category Name Customer City Customer Country  ... Order Item Total  \\\n",
       "1  Sporting Goods        Caguas      Puerto Rico  ...       311.359985   \n",
       "6  Sporting Goods        Caguas      Puerto Rico  ...       288.420013   \n",
       "7  Sporting Goods         Miami          EE. UU.  ...       285.140015   \n",
       "8  Sporting Goods        Caguas      Puerto Rico  ...       278.589996   \n",
       "9  Sporting Goods     San Ramon          EE. UU.  ...       275.309998   \n",
       "\n",
       "  Order Profit Per Order  Order Region Order State Order Status  Product Name  \\\n",
       "1             -79.700005    South Asia   RajastÃ¡n      PENDING  Smart watch    \n",
       "6              95.180000  Eastern Asia   Guangdong     COMPLETE  Smart watch    \n",
       "7              68.430000  Eastern Asia   Guangdong   PROCESSING  Smart watch    \n",
       "8             133.720001  Eastern Asia   Guangdong       CLOSED  Smart watch    \n",
       "9             132.149994  Eastern Asia   Guangdong       CLOSED  Smart watch    \n",
       "\n",
       "  Product Price  Product Status  shipping date (DateOrders)   Shipping Mode  \n",
       "1        327.75               0             1/18/2018 12:27  Standard Class  \n",
       "6        327.75               0             1/15/2018 10:42     First Class  \n",
       "7        327.75               0             1/15/2018 10:21     First Class  \n",
       "8        327.75               0             1/16/2018 10:00    Second Class  \n",
       "9        327.75               0              1/15/2018 9:39     First Class  \n",
       "\n",
       "[5 rows x 33 columns]"
      ]
     },
     "execution_count": 9,
     "metadata": {},
     "output_type": "execute_result"
    }
   ],
   "source": [
    "Late_Deliveries_Table = MainTable[MainTable['Delivery Status']=='Late delivery']\n",
    "Late_Deliveries_Table.head(5)"
   ]
  },
  {
   "cell_type": "code",
   "execution_count": 10,
   "id": "e316600a-1add-4994-8217-7e56e0b20f15",
   "metadata": {},
   "outputs": [
    {
     "data": {
      "text/html": [
       "<div>\n",
       "<style scoped>\n",
       "    .dataframe tbody tr th:only-of-type {\n",
       "        vertical-align: middle;\n",
       "    }\n",
       "\n",
       "    .dataframe tbody tr th {\n",
       "        vertical-align: top;\n",
       "    }\n",
       "\n",
       "    .dataframe thead th {\n",
       "        text-align: right;\n",
       "    }\n",
       "</style>\n",
       "<table border=\"1\" class=\"dataframe\">\n",
       "  <thead>\n",
       "    <tr style=\"text-align: right;\">\n",
       "      <th></th>\n",
       "      <th>Type</th>\n",
       "      <th>Delivery Status</th>\n",
       "      <th>Category Name</th>\n",
       "      <th>Customer City</th>\n",
       "      <th>Customer Country</th>\n",
       "      <th>Customer Segment</th>\n",
       "      <th>Customer State</th>\n",
       "      <th>Department Name</th>\n",
       "      <th>Market</th>\n",
       "      <th>Order City</th>\n",
       "      <th>Order Country</th>\n",
       "      <th>order date (DateOrders)</th>\n",
       "      <th>Order Region</th>\n",
       "      <th>Order State</th>\n",
       "      <th>Order Status</th>\n",
       "      <th>Product Name</th>\n",
       "      <th>shipping date (DateOrders)</th>\n",
       "      <th>Shipping Mode</th>\n",
       "    </tr>\n",
       "  </thead>\n",
       "  <tbody>\n",
       "    <tr>\n",
       "      <th>1</th>\n",
       "      <td>TRANSFER</td>\n",
       "      <td>Late delivery</td>\n",
       "      <td>Sporting Goods</td>\n",
       "      <td>Caguas</td>\n",
       "      <td>Puerto Rico</td>\n",
       "      <td>Consumer</td>\n",
       "      <td>PR</td>\n",
       "      <td>Fitness</td>\n",
       "      <td>Pacific Asia</td>\n",
       "      <td>Bikaner</td>\n",
       "      <td>India</td>\n",
       "      <td>1/13/2018 12:27</td>\n",
       "      <td>South Asia</td>\n",
       "      <td>RajastÃ¡n</td>\n",
       "      <td>PENDING</td>\n",
       "      <td>Smart watch</td>\n",
       "      <td>1/18/2018 12:27</td>\n",
       "      <td>Standard Class</td>\n",
       "    </tr>\n",
       "    <tr>\n",
       "      <th>6</th>\n",
       "      <td>DEBIT</td>\n",
       "      <td>Late delivery</td>\n",
       "      <td>Sporting Goods</td>\n",
       "      <td>Caguas</td>\n",
       "      <td>Puerto Rico</td>\n",
       "      <td>Home Office</td>\n",
       "      <td>PR</td>\n",
       "      <td>Fitness</td>\n",
       "      <td>Pacific Asia</td>\n",
       "      <td>Guangzhou</td>\n",
       "      <td>China</td>\n",
       "      <td>1/13/2018 10:42</td>\n",
       "      <td>Eastern Asia</td>\n",
       "      <td>Guangdong</td>\n",
       "      <td>COMPLETE</td>\n",
       "      <td>Smart watch</td>\n",
       "      <td>1/15/2018 10:42</td>\n",
       "      <td>First Class</td>\n",
       "    </tr>\n",
       "    <tr>\n",
       "      <th>7</th>\n",
       "      <td>TRANSFER</td>\n",
       "      <td>Late delivery</td>\n",
       "      <td>Sporting Goods</td>\n",
       "      <td>Miami</td>\n",
       "      <td>EE. UU.</td>\n",
       "      <td>Corporate</td>\n",
       "      <td>FL</td>\n",
       "      <td>Fitness</td>\n",
       "      <td>Pacific Asia</td>\n",
       "      <td>Guangzhou</td>\n",
       "      <td>China</td>\n",
       "      <td>1/13/2018 10:21</td>\n",
       "      <td>Eastern Asia</td>\n",
       "      <td>Guangdong</td>\n",
       "      <td>PROCESSING</td>\n",
       "      <td>Smart watch</td>\n",
       "      <td>1/15/2018 10:21</td>\n",
       "      <td>First Class</td>\n",
       "    </tr>\n",
       "    <tr>\n",
       "      <th>8</th>\n",
       "      <td>CASH</td>\n",
       "      <td>Late delivery</td>\n",
       "      <td>Sporting Goods</td>\n",
       "      <td>Caguas</td>\n",
       "      <td>Puerto Rico</td>\n",
       "      <td>Corporate</td>\n",
       "      <td>PR</td>\n",
       "      <td>Fitness</td>\n",
       "      <td>Pacific Asia</td>\n",
       "      <td>Guangzhou</td>\n",
       "      <td>China</td>\n",
       "      <td>1/13/2018 10:00</td>\n",
       "      <td>Eastern Asia</td>\n",
       "      <td>Guangdong</td>\n",
       "      <td>CLOSED</td>\n",
       "      <td>Smart watch</td>\n",
       "      <td>1/16/2018 10:00</td>\n",
       "      <td>Second Class</td>\n",
       "    </tr>\n",
       "    <tr>\n",
       "      <th>9</th>\n",
       "      <td>CASH</td>\n",
       "      <td>Late delivery</td>\n",
       "      <td>Sporting Goods</td>\n",
       "      <td>San Ramon</td>\n",
       "      <td>EE. UU.</td>\n",
       "      <td>Corporate</td>\n",
       "      <td>CA</td>\n",
       "      <td>Fitness</td>\n",
       "      <td>Pacific Asia</td>\n",
       "      <td>Guangzhou</td>\n",
       "      <td>China</td>\n",
       "      <td>1/13/2018 9:39</td>\n",
       "      <td>Eastern Asia</td>\n",
       "      <td>Guangdong</td>\n",
       "      <td>CLOSED</td>\n",
       "      <td>Smart watch</td>\n",
       "      <td>1/15/2018 9:39</td>\n",
       "      <td>First Class</td>\n",
       "    </tr>\n",
       "  </tbody>\n",
       "</table>\n",
       "</div>"
      ],
      "text/plain": [
       "       Type Delivery Status   Category Name Customer City Customer Country  \\\n",
       "1  TRANSFER   Late delivery  Sporting Goods        Caguas      Puerto Rico   \n",
       "6     DEBIT   Late delivery  Sporting Goods        Caguas      Puerto Rico   \n",
       "7  TRANSFER   Late delivery  Sporting Goods         Miami          EE. UU.   \n",
       "8      CASH   Late delivery  Sporting Goods        Caguas      Puerto Rico   \n",
       "9      CASH   Late delivery  Sporting Goods     San Ramon          EE. UU.   \n",
       "\n",
       "  Customer Segment Customer State Department Name        Market Order City  \\\n",
       "1         Consumer             PR         Fitness  Pacific Asia    Bikaner   \n",
       "6      Home Office             PR         Fitness  Pacific Asia  Guangzhou   \n",
       "7        Corporate             FL         Fitness  Pacific Asia  Guangzhou   \n",
       "8        Corporate             PR         Fitness  Pacific Asia  Guangzhou   \n",
       "9        Corporate             CA         Fitness  Pacific Asia  Guangzhou   \n",
       "\n",
       "  Order Country order date (DateOrders)  Order Region Order State  \\\n",
       "1         India         1/13/2018 12:27    South Asia   RajastÃ¡n   \n",
       "6         China         1/13/2018 10:42  Eastern Asia   Guangdong   \n",
       "7         China         1/13/2018 10:21  Eastern Asia   Guangdong   \n",
       "8         China         1/13/2018 10:00  Eastern Asia   Guangdong   \n",
       "9         China          1/13/2018 9:39  Eastern Asia   Guangdong   \n",
       "\n",
       "  Order Status  Product Name shipping date (DateOrders)   Shipping Mode  \n",
       "1      PENDING  Smart watch             1/18/2018 12:27  Standard Class  \n",
       "6     COMPLETE  Smart watch             1/15/2018 10:42     First Class  \n",
       "7   PROCESSING  Smart watch             1/15/2018 10:21     First Class  \n",
       "8       CLOSED  Smart watch             1/16/2018 10:00    Second Class  \n",
       "9       CLOSED  Smart watch              1/15/2018 9:39     First Class  "
      ]
     },
     "execution_count": 10,
     "metadata": {},
     "output_type": "execute_result"
    }
   ],
   "source": [
    "catagorical_col = Late_Deliveries_Table.select_dtypes(exclude='number')\n",
    "catagorical_col.head(5)"
   ]
  },
  {
   "cell_type": "code",
   "execution_count": 11,
   "id": "fa32a89d-a1c8-4cad-af30-21cb11813eb6",
   "metadata": {},
   "outputs": [
    {
     "data": {
      "text/plain": [
       "Type                          98977\n",
       "Delivery Status               98977\n",
       "Category Name                 98977\n",
       "Customer City                 98977\n",
       "Customer Country              98977\n",
       "Customer Segment              98977\n",
       "Customer State                98977\n",
       "Department Name               98977\n",
       "Market                        98977\n",
       "Order City                    98977\n",
       "Order Country                 98977\n",
       "order date (DateOrders)       98977\n",
       "Order Region                  98977\n",
       "Order State                   98977\n",
       "Order Status                  98977\n",
       "Product Name                  98977\n",
       "shipping date (DateOrders)    98977\n",
       "Shipping Mode                 98977\n",
       "dtype: int64"
      ]
     },
     "execution_count": 11,
     "metadata": {},
     "output_type": "execute_result"
    }
   ],
   "source": [
    "catagorical_col.count()"
   ]
  },
  {
   "cell_type": "markdown",
   "id": "c17ff352-9b2e-4171-b5a8-18c5ecb13217",
   "metadata": {
    "tags": []
   },
   "source": [
    "## Txn Type"
   ]
  },
  {
   "cell_type": "code",
   "execution_count": 12,
   "id": "03d92b6a-485b-4337-8eea-e7c3fba4c2fc",
   "metadata": {},
   "outputs": [],
   "source": [
    "# Txn type for late deliveries.\n",
    "dataType= {'TypeLatecount':Late_Deliveries_Table.groupby('Type').size(),\n",
    "       'TypeLateMaincount':MainTable.groupby('Type').size(),\n",
    "      'Percentages':Late_Deliveries_Table.groupby('Type').size()*100/MainTable.groupby('Type').size()}"
   ]
  },
  {
   "cell_type": "code",
   "execution_count": 13,
   "id": "974eb8cf-6488-4fe2-ad29-4596d72c8eaa",
   "metadata": {},
   "outputs": [
    {
     "data": {
      "text/html": [
       "<div>\n",
       "<style scoped>\n",
       "    .dataframe tbody tr th:only-of-type {\n",
       "        vertical-align: middle;\n",
       "    }\n",
       "\n",
       "    .dataframe tbody tr th {\n",
       "        vertical-align: top;\n",
       "    }\n",
       "\n",
       "    .dataframe thead th {\n",
       "        text-align: right;\n",
       "    }\n",
       "</style>\n",
       "<table border=\"1\" class=\"dataframe\">\n",
       "  <thead>\n",
       "    <tr style=\"text-align: right;\">\n",
       "      <th></th>\n",
       "      <th>TypeLatecount</th>\n",
       "      <th>TypeLateMaincount</th>\n",
       "      <th>Percentages</th>\n",
       "    </tr>\n",
       "    <tr>\n",
       "      <th>Type</th>\n",
       "      <th></th>\n",
       "      <th></th>\n",
       "      <th></th>\n",
       "    </tr>\n",
       "  </thead>\n",
       "  <tbody>\n",
       "    <tr>\n",
       "      <th>PAYMENT</th>\n",
       "      <td>24004</td>\n",
       "      <td>41725</td>\n",
       "      <td>57.529059</td>\n",
       "    </tr>\n",
       "    <tr>\n",
       "      <th>DEBIT</th>\n",
       "      <td>39649</td>\n",
       "      <td>69295</td>\n",
       "      <td>57.217692</td>\n",
       "    </tr>\n",
       "    <tr>\n",
       "      <th>CASH</th>\n",
       "      <td>11109</td>\n",
       "      <td>19616</td>\n",
       "      <td>56.632341</td>\n",
       "    </tr>\n",
       "    <tr>\n",
       "      <th>TRANSFER</th>\n",
       "      <td>24215</td>\n",
       "      <td>49883</td>\n",
       "      <td>48.543592</td>\n",
       "    </tr>\n",
       "  </tbody>\n",
       "</table>\n",
       "</div>"
      ],
      "text/plain": [
       "          TypeLatecount  TypeLateMaincount  Percentages\n",
       "Type                                                   \n",
       "PAYMENT           24004              41725    57.529059\n",
       "DEBIT             39649              69295    57.217692\n",
       "CASH              11109              19616    56.632341\n",
       "TRANSFER          24215              49883    48.543592"
      ]
     },
     "execution_count": 13,
     "metadata": {},
     "output_type": "execute_result"
    }
   ],
   "source": [
    "TypeLatecountPercetage=pd.DataFrame(dataType)\n",
    "TL1=TypeLatecountPercetage.nlargest(10,'TypeLatecount').sort_values('Percentages',ascending=False)\n",
    "TL1"
   ]
  },
  {
   "cell_type": "code",
   "execution_count": 14,
   "id": "5afe1757-1ba4-4de1-8dd2-a14b7a9baab4",
   "metadata": {},
   "outputs": [
    {
     "data": {
      "image/png": "[encoded data removed]",
      "text/plain": [
       "<Figure size 432x288 with 1 Axes>"
      ]
     },
     "metadata": {
      "needs_background": "light"
     },
     "output_type": "display_data"
    }
   ],
   "source": [
    "sns.barplot(x = TL1.index, y = TL1.TypeLatecount)\n",
    "plt.xticks(rotation=70)\n",
    "plt.tight_layout()"
   ]
  },
  {
   "cell_type": "code",
   "execution_count": 15,
   "id": "265465a3-ae7b-44e6-ac53-1b02d947f46f",
   "metadata": {},
   "outputs": [],
   "source": [
    "#pie chart\n",
    "dataType1= {'TypeLatecount':Late_Deliveries_Table.groupby('Type').size(),\n",
    "      'Percentages':(Late_Deliveries_Table.groupby('Type').size()*100)/98977}"
   ]
  },
  {
   "cell_type": "code",
   "execution_count": 16,
   "id": "e1a8a870-7806-4ab4-a647-a63aa77a201d",
   "metadata": {},
   "outputs": [
    {
     "data": {
      "text/html": [
       "<div>\n",
       "<style scoped>\n",
       "    .dataframe tbody tr th:only-of-type {\n",
       "        vertical-align: middle;\n",
       "    }\n",
       "\n",
       "    .dataframe tbody tr th {\n",
       "        vertical-align: top;\n",
       "    }\n",
       "\n",
       "    .dataframe thead th {\n",
       "        text-align: right;\n",
       "    }\n",
       "</style>\n",
       "<table border=\"1\" class=\"dataframe\">\n",
       "  <thead>\n",
       "    <tr style=\"text-align: right;\">\n",
       "      <th></th>\n",
       "      <th>TypeLatecount</th>\n",
       "      <th>Percentages</th>\n",
       "    </tr>\n",
       "    <tr>\n",
       "      <th>Type</th>\n",
       "      <th></th>\n",
       "      <th></th>\n",
       "    </tr>\n",
       "  </thead>\n",
       "  <tbody>\n",
       "    <tr>\n",
       "      <th>DEBIT</th>\n",
       "      <td>39649</td>\n",
       "      <td>40.058802</td>\n",
       "    </tr>\n",
       "    <tr>\n",
       "      <th>TRANSFER</th>\n",
       "      <td>24215</td>\n",
       "      <td>24.465280</td>\n",
       "    </tr>\n",
       "    <tr>\n",
       "      <th>PAYMENT</th>\n",
       "      <td>24004</td>\n",
       "      <td>24.252099</td>\n",
       "    </tr>\n",
       "    <tr>\n",
       "      <th>CASH</th>\n",
       "      <td>11109</td>\n",
       "      <td>11.223820</td>\n",
       "    </tr>\n",
       "  </tbody>\n",
       "</table>\n",
       "</div>"
      ],
      "text/plain": [
       "          TypeLatecount  Percentages\n",
       "Type                                \n",
       "DEBIT             39649    40.058802\n",
       "TRANSFER          24215    24.465280\n",
       "PAYMENT           24004    24.252099\n",
       "CASH              11109    11.223820"
      ]
     },
     "execution_count": 16,
     "metadata": {},
     "output_type": "execute_result"
    }
   ],
   "source": [
    "TypeLatecountPercetage=pd.DataFrame(dataType1)\n",
    "TL1=TypeLatecountPercetage.sort_values('Percentages',ascending=False)\n",
    "TL1"
   ]
  },
  {
   "cell_type": "code",
   "execution_count": 17,
   "id": "aa2eea5c-bc4d-43f9-8ef7-e0257bb908ca",
   "metadata": {},
   "outputs": [
    {
     "data": {
      "text/plain": [
       "([<matplotlib.patches.Wedge at 0x7fc21fcb26a0>,\n",
       "  <matplotlib.patches.Wedge at 0x7fc21fcb2e20>,\n",
       "  <matplotlib.patches.Wedge at 0x7fc21fcc0580>,\n",
       "  <matplotlib.patches.Wedge at 0x7fc21fcc0ca0>],\n",
       " [Text(0.3379855660937831, 1.0467883057773741, 'DEBIT'),\n",
       "  Text(-1.0886187711888495, -0.15782639517925873, 'TRANSFER'),\n",
       "  Text(0.1138445255202703, -1.0940929686315806, 'PAYMENT'),\n",
       "  Text(1.0323232242141889, -0.37987992938298476, 'CASH')],\n",
       " [Text(0.18435576332388168, 0.5709754395149312, '40%'),\n",
       "  Text(-0.5937920570120997, -0.08608712464323202, '24%'),\n",
       "  Text(0.06209701392014742, -0.596777982889953, '24%'),\n",
       "  Text(0.5630853950259211, -0.20720723420890075, '11%')])"
      ]
     },
     "execution_count": 17,
     "metadata": {},
     "output_type": "execute_result"
    },
    {
     "data": {
      "image/png": "[encoded data removed]",
      "text/plain": [
       "<Figure size 432x288 with 1 Axes>"
      ]
     },
     "metadata": {},
     "output_type": "display_data"
    }
   ],
   "source": [
    "labels = ['DEBIT', 'TRANSFER', 'PAYMENT', 'CASH']\n",
    "\n",
    "#define Seaborn color palette to use\n",
    "colors = sns.color_palette('pastel')[0:5]\n",
    "plt.pie(TL1.TypeLatecount, labels = labels, colors = colors, autopct='%.0f%%')\n"
   ]
  },
  {
   "cell_type": "code",
   "execution_count": 42,
   "id": "51d2bc12-e7ad-49df-85ac-7e1bceca06ee",
   "metadata": {},
   "outputs": [],
   "source": [
    "# payment = Credit Cards\n",
    "# transfer = internet banking\n",
    "# debit = debit card\n",
    "# Cash = Cash"
   ]
  },
  {
   "cell_type": "markdown",
   "id": "53c9226d-5e40-40d9-ac92-51f80b2262a0",
   "metadata": {},
   "source": [
    "<b>Debit payment has maximum of late deliveries</b>"
   ]
  },
  {
   "cell_type": "markdown",
   "id": "3e9bfb48-97e2-47a8-9784-8b5a7f478552",
   "metadata": {
    "tags": []
   },
   "source": [
    "## Category Name"
   ]
  },
  {
   "cell_type": "code",
   "execution_count": 18,
   "id": "7d48bc09-9ccd-49d6-bb29-71e36709f09f",
   "metadata": {},
   "outputs": [],
   "source": [
    "# Txn type for late deliveries.\n",
    "dataCategoryName= {'CategoryNameLatecount':Late_Deliveries_Table.groupby('Category Name').size(),\n",
    "       'CategoryNameLateMaincount':MainTable.groupby('Category Name').size(),\n",
    "      'Percentages':Late_Deliveries_Table.groupby('Category Name').size()*100/MainTable.groupby('Category Name').size()}"
   ]
  },
  {
   "cell_type": "code",
   "execution_count": 19,
   "id": "e2e55692-3b86-42ce-a4c9-e333c081ae3d",
   "metadata": {},
   "outputs": [
    {
     "data": {
      "text/html": [
       "<div>\n",
       "<style scoped>\n",
       "    .dataframe tbody tr th:only-of-type {\n",
       "        vertical-align: middle;\n",
       "    }\n",
       "\n",
       "    .dataframe tbody tr th {\n",
       "        vertical-align: top;\n",
       "    }\n",
       "\n",
       "    .dataframe thead th {\n",
       "        text-align: right;\n",
       "    }\n",
       "</style>\n",
       "<table border=\"1\" class=\"dataframe\">\n",
       "  <thead>\n",
       "    <tr style=\"text-align: right;\">\n",
       "      <th></th>\n",
       "      <th>CategoryNameLatecount</th>\n",
       "      <th>CategoryNameLateMaincount</th>\n",
       "      <th>Percentages</th>\n",
       "    </tr>\n",
       "    <tr>\n",
       "      <th>Category Name</th>\n",
       "      <th></th>\n",
       "      <th></th>\n",
       "      <th></th>\n",
       "    </tr>\n",
       "  </thead>\n",
       "  <tbody>\n",
       "    <tr>\n",
       "      <th>Electronics</th>\n",
       "      <td>1770</td>\n",
       "      <td>3156</td>\n",
       "      <td>56.083650</td>\n",
       "    </tr>\n",
       "    <tr>\n",
       "      <th>Shop By Sport</th>\n",
       "      <td>6058</td>\n",
       "      <td>10984</td>\n",
       "      <td>55.152950</td>\n",
       "    </tr>\n",
       "    <tr>\n",
       "      <th>Cleats</th>\n",
       "      <td>13496</td>\n",
       "      <td>24551</td>\n",
       "      <td>54.971284</td>\n",
       "    </tr>\n",
       "    <tr>\n",
       "      <th>Fishing</th>\n",
       "      <td>9516</td>\n",
       "      <td>17325</td>\n",
       "      <td>54.926407</td>\n",
       "    </tr>\n",
       "    <tr>\n",
       "      <th>Water Sports</th>\n",
       "      <td>8517</td>\n",
       "      <td>15540</td>\n",
       "      <td>54.806950</td>\n",
       "    </tr>\n",
       "    <tr>\n",
       "      <th>Indoor/Outdoor Games</th>\n",
       "      <td>10565</td>\n",
       "      <td>19298</td>\n",
       "      <td>54.746606</td>\n",
       "    </tr>\n",
       "    <tr>\n",
       "      <th>Women's Apparel</th>\n",
       "      <td>11476</td>\n",
       "      <td>21035</td>\n",
       "      <td>54.556691</td>\n",
       "    </tr>\n",
       "    <tr>\n",
       "      <th>Camping &amp; Hiking</th>\n",
       "      <td>7487</td>\n",
       "      <td>13729</td>\n",
       "      <td>54.534198</td>\n",
       "    </tr>\n",
       "    <tr>\n",
       "      <th>Cardio Equipment</th>\n",
       "      <td>6805</td>\n",
       "      <td>12487</td>\n",
       "      <td>54.496677</td>\n",
       "    </tr>\n",
       "    <tr>\n",
       "      <th>Men's Footwear</th>\n",
       "      <td>12121</td>\n",
       "      <td>22246</td>\n",
       "      <td>54.486200</td>\n",
       "    </tr>\n",
       "  </tbody>\n",
       "</table>\n",
       "</div>"
      ],
      "text/plain": [
       "                      CategoryNameLatecount  CategoryNameLateMaincount  \\\n",
       "Category Name                                                            \n",
       "Electronics                            1770                       3156   \n",
       "Shop By Sport                          6058                      10984   \n",
       "Cleats                                13496                      24551   \n",
       "Fishing                                9516                      17325   \n",
       "Water Sports                           8517                      15540   \n",
       "Indoor/Outdoor Games                  10565                      19298   \n",
       "Women's Apparel                       11476                      21035   \n",
       "Camping & Hiking                       7487                      13729   \n",
       "Cardio Equipment                       6805                      12487   \n",
       "Men's Footwear                        12121                      22246   \n",
       "\n",
       "                      Percentages  \n",
       "Category Name                      \n",
       "Electronics             56.083650  \n",
       "Shop By Sport           55.152950  \n",
       "Cleats                  54.971284  \n",
       "Fishing                 54.926407  \n",
       "Water Sports            54.806950  \n",
       "Indoor/Outdoor Games    54.746606  \n",
       "Women's Apparel         54.556691  \n",
       "Camping & Hiking        54.534198  \n",
       "Cardio Equipment        54.496677  \n",
       "Men's Footwear          54.486200  "
      ]
     },
     "execution_count": 19,
     "metadata": {},
     "output_type": "execute_result"
    }
   ],
   "source": [
    "CategoryNameLatecountPercetage=pd.DataFrame(dataCategoryName)\n",
    "CN1=CategoryNameLatecountPercetage.nlargest(10,'CategoryNameLatecount').sort_values('Percentages',ascending=False)\n",
    "CN1"
   ]
  },
  {
   "cell_type": "code",
   "execution_count": 20,
   "id": "0bdd9b71-9c04-496a-b801-478bb0b86505",
   "metadata": {},
   "outputs": [
    {
     "data": {
      "image/png": "[encoded data removed]",
      "text/plain": [
       "<Figure size 432x288 with 1 Axes>"
      ]
     },
     "metadata": {
      "needs_background": "light"
     },
     "output_type": "display_data"
    }
   ],
   "source": [
    "sns.barplot(x = CN1.index, y = CN1.CategoryNameLatecount)\n",
    "plt.xticks(rotation=70)\n",
    "plt.tight_layout()"
   ]
  },
  {
   "cell_type": "markdown",
   "id": "b1f748af-25f8-42d3-944c-62776dd2b807",
   "metadata": {},
   "source": [
    "## Customer City"
   ]
  },
  {
   "cell_type": "code",
   "execution_count": 21,
   "id": "cb0ac6c1-5314-43ae-a238-6f7e5979d2ee",
   "metadata": {},
   "outputs": [],
   "source": [
    "# Txn type for late deliveries.\n",
    "dataCustomerCity= {'CustomerCityLatecount':Late_Deliveries_Table.groupby('Customer City').size(),\n",
    "       'CustomerCityLateMaincount':MainTable.groupby('Customer City').size(),\n",
    "      'Percentages':Late_Deliveries_Table.groupby('Customer City').size()*100/MainTable.groupby('Customer City').size()}"
   ]
  },
  {
   "cell_type": "code",
   "execution_count": 22,
   "id": "837362da-25f0-4868-af16-8dcd8c3b15dc",
   "metadata": {},
   "outputs": [
    {
     "data": {
      "text/html": [
       "<div>\n",
       "<style scoped>\n",
       "    .dataframe tbody tr th:only-of-type {\n",
       "        vertical-align: middle;\n",
       "    }\n",
       "\n",
       "    .dataframe tbody tr th {\n",
       "        vertical-align: top;\n",
       "    }\n",
       "\n",
       "    .dataframe thead th {\n",
       "        text-align: right;\n",
       "    }\n",
       "</style>\n",
       "<table border=\"1\" class=\"dataframe\">\n",
       "  <thead>\n",
       "    <tr style=\"text-align: right;\">\n",
       "      <th></th>\n",
       "      <th>CustomerCityLatecount</th>\n",
       "      <th>CustomerCityLateMaincount</th>\n",
       "      <th>Percentages</th>\n",
       "    </tr>\n",
       "    <tr>\n",
       "      <th>Customer City</th>\n",
       "      <th></th>\n",
       "      <th></th>\n",
       "      <th></th>\n",
       "    </tr>\n",
       "  </thead>\n",
       "  <tbody>\n",
       "    <tr>\n",
       "      <th>Chicago</th>\n",
       "      <td>2198</td>\n",
       "      <td>3885</td>\n",
       "      <td>56.576577</td>\n",
       "    </tr>\n",
       "    <tr>\n",
       "      <th>Philadelphia</th>\n",
       "      <td>871</td>\n",
       "      <td>1577</td>\n",
       "      <td>55.231452</td>\n",
       "    </tr>\n",
       "    <tr>\n",
       "      <th>New York</th>\n",
       "      <td>1003</td>\n",
       "      <td>1816</td>\n",
       "      <td>55.231278</td>\n",
       "    </tr>\n",
       "    <tr>\n",
       "      <th>Bronx</th>\n",
       "      <td>824</td>\n",
       "      <td>1500</td>\n",
       "      <td>54.933333</td>\n",
       "    </tr>\n",
       "    <tr>\n",
       "      <th>Caguas</th>\n",
       "      <td>36550</td>\n",
       "      <td>66770</td>\n",
       "      <td>54.740153</td>\n",
       "    </tr>\n",
       "    <tr>\n",
       "      <th>Los Angeles</th>\n",
       "      <td>1858</td>\n",
       "      <td>3417</td>\n",
       "      <td>54.375183</td>\n",
       "    </tr>\n",
       "    <tr>\n",
       "      <th>Miami</th>\n",
       "      <td>707</td>\n",
       "      <td>1314</td>\n",
       "      <td>53.805175</td>\n",
       "    </tr>\n",
       "    <tr>\n",
       "      <th>San Diego</th>\n",
       "      <td>768</td>\n",
       "      <td>1437</td>\n",
       "      <td>53.444676</td>\n",
       "    </tr>\n",
       "    <tr>\n",
       "      <th>Brooklyn</th>\n",
       "      <td>1812</td>\n",
       "      <td>3412</td>\n",
       "      <td>53.106682</td>\n",
       "    </tr>\n",
       "    <tr>\n",
       "      <th>Houston</th>\n",
       "      <td>688</td>\n",
       "      <td>1297</td>\n",
       "      <td>53.045490</td>\n",
       "    </tr>\n",
       "  </tbody>\n",
       "</table>\n",
       "</div>"
      ],
      "text/plain": [
       "               CustomerCityLatecount  CustomerCityLateMaincount  Percentages\n",
       "Customer City                                                               \n",
       "Chicago                         2198                       3885    56.576577\n",
       "Philadelphia                     871                       1577    55.231452\n",
       "New York                        1003                       1816    55.231278\n",
       "Bronx                            824                       1500    54.933333\n",
       "Caguas                         36550                      66770    54.740153\n",
       "Los Angeles                     1858                       3417    54.375183\n",
       "Miami                            707                       1314    53.805175\n",
       "San Diego                        768                       1437    53.444676\n",
       "Brooklyn                        1812                       3412    53.106682\n",
       "Houston                          688                       1297    53.045490"
      ]
     },
     "execution_count": 22,
     "metadata": {},
     "output_type": "execute_result"
    }
   ],
   "source": [
    "CustomerCityLatecountPercetage=pd.DataFrame(dataCustomerCity)\n",
    "CC1=CustomerCityLatecountPercetage.nlargest(10,'CustomerCityLatecount').sort_values('Percentages',ascending=False)\n",
    "CC1"
   ]
  },
  {
   "cell_type": "code",
   "execution_count": 23,
   "id": "63f80d8d-8a22-4088-99c9-5d6665c3f6ee",
   "metadata": {},
   "outputs": [
    {
     "data": {
      "image/png": "[encoded data removed]",
      "text/plain": [
       "<Figure size 432x288 with 1 Axes>"
      ]
     },
     "metadata": {
      "needs_background": "light"
     },
     "output_type": "display_data"
    }
   ],
   "source": [
    "sns.barplot(x = CC1.index, y = CC1.CustomerCityLatecount)\n",
    "plt.xticks(rotation=70)\n",
    "plt.tight_layout()"
   ]
  },
  {
   "cell_type": "markdown",
   "id": "db3dba6f-965c-4b3d-835b-40726edd8857",
   "metadata": {},
   "source": [
    "## Customer Country"
   ]
  },
  {
   "cell_type": "code",
   "execution_count": 24,
   "id": "03ad15b8-0891-40b9-a746-e56eb81061bf",
   "metadata": {},
   "outputs": [],
   "source": [
    "# Customer Country for late deliveries.\n",
    "dataCustomerCountry= {'CustomerCountryLatecount':Late_Deliveries_Table.groupby('Customer Country').size(),\n",
    "       'CustomerCountryLateMaincount':MainTable.groupby('Customer Country').size(),\n",
    "      'Percentages':Late_Deliveries_Table.groupby('Customer Country').size()*100/MainTable.groupby('Customer Country').size()}"
   ]
  },
  {
   "cell_type": "code",
   "execution_count": 25,
   "id": "a477715a-b762-42c4-8afa-148ff21ca4e5",
   "metadata": {},
   "outputs": [
    {
     "data": {
      "text/html": [
       "<div>\n",
       "<style scoped>\n",
       "    .dataframe tbody tr th:only-of-type {\n",
       "        vertical-align: middle;\n",
       "    }\n",
       "\n",
       "    .dataframe tbody tr th {\n",
       "        vertical-align: top;\n",
       "    }\n",
       "\n",
       "    .dataframe thead th {\n",
       "        text-align: right;\n",
       "    }\n",
       "</style>\n",
       "<table border=\"1\" class=\"dataframe\">\n",
       "  <thead>\n",
       "    <tr style=\"text-align: right;\">\n",
       "      <th></th>\n",
       "      <th>CustomerCountryLatecount</th>\n",
       "      <th>CustomerCountryLateMaincount</th>\n",
       "      <th>Percentages</th>\n",
       "    </tr>\n",
       "    <tr>\n",
       "      <th>Customer Country</th>\n",
       "      <th></th>\n",
       "      <th></th>\n",
       "      <th></th>\n",
       "    </tr>\n",
       "  </thead>\n",
       "  <tbody>\n",
       "    <tr>\n",
       "      <th>EE. UU.</th>\n",
       "      <td>60986</td>\n",
       "      <td>111146</td>\n",
       "      <td>54.870171</td>\n",
       "    </tr>\n",
       "    <tr>\n",
       "      <th>Puerto Rico</th>\n",
       "      <td>37991</td>\n",
       "      <td>69373</td>\n",
       "      <td>54.763381</td>\n",
       "    </tr>\n",
       "  </tbody>\n",
       "</table>\n",
       "</div>"
      ],
      "text/plain": [
       "                  CustomerCountryLatecount  CustomerCountryLateMaincount  \\\n",
       "Customer Country                                                           \n",
       "EE. UU.                              60986                        111146   \n",
       "Puerto Rico                          37991                         69373   \n",
       "\n",
       "                  Percentages  \n",
       "Customer Country               \n",
       "EE. UU.             54.870171  \n",
       "Puerto Rico         54.763381  "
      ]
     },
     "execution_count": 25,
     "metadata": {},
     "output_type": "execute_result"
    }
   ],
   "source": [
    "CustomerCountryLatecountPercetage=pd.DataFrame(dataCustomerCountry)\n",
    "CC2=CustomerCountryLatecountPercetage.nlargest(10,'CustomerCountryLatecount').sort_values('Percentages',ascending=False)\n",
    "CC2"
   ]
  },
  {
   "cell_type": "code",
   "execution_count": 26,
   "id": "cb8107b7-ff94-44e8-96bb-3af7d39baa16",
   "metadata": {},
   "outputs": [
    {
     "data": {
      "image/png": "[encoded data removed]",
      "text/plain": [
       "<Figure size 432x288 with 1 Axes>"
      ]
     },
     "metadata": {
      "needs_background": "light"
     },
     "output_type": "display_data"
    }
   ],
   "source": [
    "sns.barplot(x = CC2.index, y = CC2.CustomerCountryLatecount)\n",
    "plt.xticks(rotation=70)\n",
    "plt.tight_layout()"
   ]
  },
  {
   "cell_type": "code",
   "execution_count": null,
   "id": "49442135-b4c7-4f3b-8ec1-e2a2ba49cd69",
   "metadata": {},
   "outputs": [],
   "source": []
  },
  {
   "cell_type": "markdown",
   "id": "5faff5f4-d802-4bf4-b077-f74658f895ec",
   "metadata": {
    "tags": []
   },
   "source": [
    "## Customer Segment"
   ]
  },
  {
   "cell_type": "code",
   "execution_count": 28,
   "id": "b5460fb3-d1cf-4864-adf5-ba4b7095b8cd",
   "metadata": {},
   "outputs": [],
   "source": [
    "# Customer Segment for late deliveries.\n",
    "dataCustomerSegment= {'CustomerSegmentLatecount':Late_Deliveries_Table.groupby('Customer Segment').size(),\n",
    "       'CustomerSegmentLateMaincount':MainTable.groupby('Customer Segment').size(),\n",
    "      'Percentages':Late_Deliveries_Table.groupby('Customer Segment').size()*100/MainTable.groupby('Customer Segment').size()}"
   ]
  },
  {
   "cell_type": "code",
   "execution_count": 29,
   "id": "c5878b72-239a-4fa2-b2ac-a1f68fc6c596",
   "metadata": {},
   "outputs": [
    {
     "data": {
      "text/html": [
       "<div>\n",
       "<style scoped>\n",
       "    .dataframe tbody tr th:only-of-type {\n",
       "        vertical-align: middle;\n",
       "    }\n",
       "\n",
       "    .dataframe tbody tr th {\n",
       "        vertical-align: top;\n",
       "    }\n",
       "\n",
       "    .dataframe thead th {\n",
       "        text-align: right;\n",
       "    }\n",
       "</style>\n",
       "<table border=\"1\" class=\"dataframe\">\n",
       "  <thead>\n",
       "    <tr style=\"text-align: right;\">\n",
       "      <th></th>\n",
       "      <th>CustomerSegmentLatecount</th>\n",
       "      <th>CustomerSegmentLateMaincount</th>\n",
       "      <th>Percentages</th>\n",
       "    </tr>\n",
       "    <tr>\n",
       "      <th>Customer Segment</th>\n",
       "      <th></th>\n",
       "      <th></th>\n",
       "      <th></th>\n",
       "    </tr>\n",
       "  </thead>\n",
       "  <tbody>\n",
       "    <tr>\n",
       "      <th>Home Office</th>\n",
       "      <td>17747</td>\n",
       "      <td>32226</td>\n",
       "      <td>55.070440</td>\n",
       "    </tr>\n",
       "    <tr>\n",
       "      <th>Consumer</th>\n",
       "      <td>51248</td>\n",
       "      <td>93504</td>\n",
       "      <td>54.808350</td>\n",
       "    </tr>\n",
       "    <tr>\n",
       "      <th>Corporate</th>\n",
       "      <td>29982</td>\n",
       "      <td>54789</td>\n",
       "      <td>54.722663</td>\n",
       "    </tr>\n",
       "  </tbody>\n",
       "</table>\n",
       "</div>"
      ],
      "text/plain": [
       "                  CustomerSegmentLatecount  CustomerSegmentLateMaincount  \\\n",
       "Customer Segment                                                           \n",
       "Home Office                          17747                         32226   \n",
       "Consumer                             51248                         93504   \n",
       "Corporate                            29982                         54789   \n",
       "\n",
       "                  Percentages  \n",
       "Customer Segment               \n",
       "Home Office         55.070440  \n",
       "Consumer            54.808350  \n",
       "Corporate           54.722663  "
      ]
     },
     "execution_count": 29,
     "metadata": {},
     "output_type": "execute_result"
    }
   ],
   "source": [
    "CustomerSegmentLatecountPercetage=pd.DataFrame(dataCustomerSegment)\n",
    "CS1=CustomerSegmentLatecountPercetage.nlargest(10,'CustomerSegmentLatecount').sort_values('Percentages',ascending=False)\n",
    "CS1"
   ]
  },
  {
   "cell_type": "code",
   "execution_count": 30,
   "id": "918d73d2-7f37-401c-be46-cc107f1157d9",
   "metadata": {},
   "outputs": [
    {
     "data": {
      "image/png": "[encoded data removed]",
      "text/plain": [
       "<Figure size 432x288 with 1 Axes>"
      ]
     },
     "metadata": {
      "needs_background": "light"
     },
     "output_type": "display_data"
    }
   ],
   "source": [
    "sns.barplot(x = CS1.index, y = CS1.CustomerSegmentLatecount)\n",
    "plt.xticks(rotation=70)\n",
    "plt.tight_layout()"
   ]
  },
  {
   "cell_type": "code",
   "execution_count": null,
   "id": "12431b87-8b0f-47b6-b3ac-e1346af68b4c",
   "metadata": {},
   "outputs": [],
   "source": [
    "#Customer Segment"
   ]
  },
  {
   "cell_type": "markdown",
   "id": "40ae24a7-7e3e-43c4-abcf-877c04ececa3",
   "metadata": {},
   "source": [
    "## Customer State "
   ]
  },
  {
   "cell_type": "code",
   "execution_count": 31,
   "id": "4ed203fe-819c-4477-a8e4-a80d617dedbe",
   "metadata": {},
   "outputs": [],
   "source": [
    "# Customer State for late deliveries.\n",
    "dataCustomerState= {'CustomerStateLatecount':Late_Deliveries_Table.groupby('Customer State').size(),\n",
    "       'CustomerStateLateMaincount':MainTable.groupby('Customer State').size(),\n",
    "      'Percentages':Late_Deliveries_Table.groupby('Customer State').size()*100/MainTable.groupby('Customer State').size()}"
   ]
  },
  {
   "cell_type": "code",
   "execution_count": 32,
   "id": "6c58e000-72cc-4d8b-a034-f5ff98680e11",
   "metadata": {},
   "outputs": [
    {
     "data": {
      "text/html": [
       "<div>\n",
       "<style scoped>\n",
       "    .dataframe tbody tr th:only-of-type {\n",
       "        vertical-align: middle;\n",
       "    }\n",
       "\n",
       "    .dataframe tbody tr th {\n",
       "        vertical-align: top;\n",
       "    }\n",
       "\n",
       "    .dataframe thead th {\n",
       "        text-align: right;\n",
       "    }\n",
       "</style>\n",
       "<table border=\"1\" class=\"dataframe\">\n",
       "  <thead>\n",
       "    <tr style=\"text-align: right;\">\n",
       "      <th></th>\n",
       "      <th>CustomerStateLatecount</th>\n",
       "      <th>CustomerStateLateMaincount</th>\n",
       "      <th>Percentages</th>\n",
       "    </tr>\n",
       "    <tr>\n",
       "      <th>Customer State</th>\n",
       "      <th></th>\n",
       "      <th></th>\n",
       "      <th></th>\n",
       "    </tr>\n",
       "  </thead>\n",
       "  <tbody>\n",
       "    <tr>\n",
       "      <th>IL</th>\n",
       "      <td>4303.0</td>\n",
       "      <td>7631</td>\n",
       "      <td>56.388416</td>\n",
       "    </tr>\n",
       "    <tr>\n",
       "      <th>CA</th>\n",
       "      <td>16180.0</td>\n",
       "      <td>29223</td>\n",
       "      <td>55.367348</td>\n",
       "    </tr>\n",
       "    <tr>\n",
       "      <th>OH</th>\n",
       "      <td>2262.0</td>\n",
       "      <td>4095</td>\n",
       "      <td>55.238095</td>\n",
       "    </tr>\n",
       "    <tr>\n",
       "      <th>TX</th>\n",
       "      <td>5028.0</td>\n",
       "      <td>9103</td>\n",
       "      <td>55.234538</td>\n",
       "    </tr>\n",
       "    <tr>\n",
       "      <th>PR</th>\n",
       "      <td>37991.0</td>\n",
       "      <td>69373</td>\n",
       "      <td>54.763381</td>\n",
       "    </tr>\n",
       "    <tr>\n",
       "      <th>FL</th>\n",
       "      <td>2942.0</td>\n",
       "      <td>5456</td>\n",
       "      <td>53.922287</td>\n",
       "    </tr>\n",
       "    <tr>\n",
       "      <th>NY</th>\n",
       "      <td>6107.0</td>\n",
       "      <td>11327</td>\n",
       "      <td>53.915423</td>\n",
       "    </tr>\n",
       "    <tr>\n",
       "      <th>PA</th>\n",
       "      <td>2049.0</td>\n",
       "      <td>3824</td>\n",
       "      <td>53.582636</td>\n",
       "    </tr>\n",
       "    <tr>\n",
       "      <th>MI</th>\n",
       "      <td>2036.0</td>\n",
       "      <td>3804</td>\n",
       "      <td>53.522608</td>\n",
       "    </tr>\n",
       "    <tr>\n",
       "      <th>NJ</th>\n",
       "      <td>1677.0</td>\n",
       "      <td>3191</td>\n",
       "      <td>52.554058</td>\n",
       "    </tr>\n",
       "  </tbody>\n",
       "</table>\n",
       "</div>"
      ],
      "text/plain": [
       "                CustomerStateLatecount  CustomerStateLateMaincount  \\\n",
       "Customer State                                                       \n",
       "IL                              4303.0                        7631   \n",
       "CA                             16180.0                       29223   \n",
       "OH                              2262.0                        4095   \n",
       "TX                              5028.0                        9103   \n",
       "PR                             37991.0                       69373   \n",
       "FL                              2942.0                        5456   \n",
       "NY                              6107.0                       11327   \n",
       "PA                              2049.0                        3824   \n",
       "MI                              2036.0                        3804   \n",
       "NJ                              1677.0                        3191   \n",
       "\n",
       "                Percentages  \n",
       "Customer State               \n",
       "IL                56.388416  \n",
       "CA                55.367348  \n",
       "OH                55.238095  \n",
       "TX                55.234538  \n",
       "PR                54.763381  \n",
       "FL                53.922287  \n",
       "NY                53.915423  \n",
       "PA                53.582636  \n",
       "MI                53.522608  \n",
       "NJ                52.554058  "
      ]
     },
     "execution_count": 32,
     "metadata": {},
     "output_type": "execute_result"
    }
   ],
   "source": [
    "CustomerStateLatecountPercetage=pd.DataFrame(dataCustomerState)\n",
    "CS2=CustomerStateLatecountPercetage.nlargest(10,'CustomerStateLatecount').sort_values('Percentages',ascending=False)\n",
    "CS2"
   ]
  },
  {
   "cell_type": "code",
   "execution_count": 33,
   "id": "e7befe7d-d7e5-487b-9085-80b053237ea9",
   "metadata": {},
   "outputs": [
    {
     "data": {
      "image/png": "[encoded data removed]",
      "text/plain": [
       "<Figure size 432x288 with 1 Axes>"
      ]
     },
     "metadata": {
      "needs_background": "light"
     },
     "output_type": "display_data"
    }
   ],
   "source": [
    "sns.barplot(x = CS2.index, y = CS2.CustomerStateLatecount)\n",
    "plt.xticks(rotation=70)\n",
    "plt.tight_layout()"
   ]
  },
  {
   "cell_type": "markdown",
   "id": "91ee6bd2-8469-45e5-b187-de487cd6c776",
   "metadata": {},
   "source": [
    "## Department Name"
   ]
  },
  {
   "cell_type": "code",
   "execution_count": 34,
   "id": "04e57507-15cc-417c-b929-998151743574",
   "metadata": {},
   "outputs": [],
   "source": [
    "# Department Name for late deliveries.\n",
    "dataDepartmentName= {'DepartmentNameLatecount':Late_Deliveries_Table.groupby('Department Name').size(),\n",
    "       'DepartmentNameLateMaincount':MainTable.groupby('Department Name').size(),\n",
    "      'Percentages':Late_Deliveries_Table.groupby('Department Name').size()*100/MainTable.groupby('Department Name').size()}"
   ]
  },
  {
   "cell_type": "code",
   "execution_count": 35,
   "id": "bf5eaff3-fbc4-4718-bbf6-c225da19d380",
   "metadata": {},
   "outputs": [
    {
     "data": {
      "text/html": [
       "<div>\n",
       "<style scoped>\n",
       "    .dataframe tbody tr th:only-of-type {\n",
       "        vertical-align: middle;\n",
       "    }\n",
       "\n",
       "    .dataframe tbody tr th {\n",
       "        vertical-align: top;\n",
       "    }\n",
       "\n",
       "    .dataframe thead th {\n",
       "        text-align: right;\n",
       "    }\n",
       "</style>\n",
       "<table border=\"1\" class=\"dataframe\">\n",
       "  <thead>\n",
       "    <tr style=\"text-align: right;\">\n",
       "      <th></th>\n",
       "      <th>DepartmentNameLatecount</th>\n",
       "      <th>DepartmentNameLateMaincount</th>\n",
       "      <th>Percentages</th>\n",
       "    </tr>\n",
       "    <tr>\n",
       "      <th>Department Name</th>\n",
       "      <th></th>\n",
       "      <th></th>\n",
       "      <th></th>\n",
       "    </tr>\n",
       "  </thead>\n",
       "  <tbody>\n",
       "    <tr>\n",
       "      <th>Pet Shop</th>\n",
       "      <td>290</td>\n",
       "      <td>492</td>\n",
       "      <td>58.943089</td>\n",
       "    </tr>\n",
       "    <tr>\n",
       "      <th>Book Shop</th>\n",
       "      <td>229</td>\n",
       "      <td>405</td>\n",
       "      <td>56.543210</td>\n",
       "    </tr>\n",
       "    <tr>\n",
       "      <th>Fitness</th>\n",
       "      <td>1377</td>\n",
       "      <td>2479</td>\n",
       "      <td>55.546591</td>\n",
       "    </tr>\n",
       "    <tr>\n",
       "      <th>Outdoors</th>\n",
       "      <td>5375</td>\n",
       "      <td>9686</td>\n",
       "      <td>55.492463</td>\n",
       "    </tr>\n",
       "    <tr>\n",
       "      <th>Technology</th>\n",
       "      <td>806</td>\n",
       "      <td>1465</td>\n",
       "      <td>55.017065</td>\n",
       "    </tr>\n",
       "    <tr>\n",
       "      <th>Golf</th>\n",
       "      <td>18198</td>\n",
       "      <td>33220</td>\n",
       "      <td>54.780253</td>\n",
       "    </tr>\n",
       "    <tr>\n",
       "      <th>Fan Shop</th>\n",
       "      <td>36623</td>\n",
       "      <td>66861</td>\n",
       "      <td>54.774831</td>\n",
       "    </tr>\n",
       "    <tr>\n",
       "      <th>Apparel</th>\n",
       "      <td>26825</td>\n",
       "      <td>48998</td>\n",
       "      <td>54.747133</td>\n",
       "    </tr>\n",
       "    <tr>\n",
       "      <th>Footwear</th>\n",
       "      <td>7949</td>\n",
       "      <td>14525</td>\n",
       "      <td>54.726334</td>\n",
       "    </tr>\n",
       "    <tr>\n",
       "      <th>Discs Shop</th>\n",
       "      <td>1103</td>\n",
       "      <td>2026</td>\n",
       "      <td>54.442251</td>\n",
       "    </tr>\n",
       "  </tbody>\n",
       "</table>\n",
       "</div>"
      ],
      "text/plain": [
       "                 DepartmentNameLatecount  DepartmentNameLateMaincount  \\\n",
       "Department Name                                                         \n",
       "Pet Shop                             290                          492   \n",
       "Book Shop                            229                          405   \n",
       "Fitness                             1377                         2479   \n",
       "Outdoors                            5375                         9686   \n",
       "Technology                           806                         1465   \n",
       "Golf                               18198                        33220   \n",
       "Fan Shop                           36623                        66861   \n",
       "Apparel                            26825                        48998   \n",
       "Footwear                            7949                        14525   \n",
       "Discs Shop                          1103                         2026   \n",
       "\n",
       "                 Percentages  \n",
       "Department Name               \n",
       "Pet Shop           58.943089  \n",
       "Book Shop          56.543210  \n",
       "Fitness            55.546591  \n",
       "Outdoors           55.492463  \n",
       "Technology         55.017065  \n",
       "Golf               54.780253  \n",
       "Fan Shop           54.774831  \n",
       "Apparel            54.747133  \n",
       "Footwear           54.726334  \n",
       "Discs Shop         54.442251  "
      ]
     },
     "execution_count": 35,
     "metadata": {},
     "output_type": "execute_result"
    }
   ],
   "source": [
    "DepartmentNameLatecountPercetage=pd.DataFrame(dataDepartmentName)\n",
    "DN1=DepartmentNameLatecountPercetage.nlargest(10,'DepartmentNameLatecount').sort_values('Percentages',ascending=False)\n",
    "DN1"
   ]
  },
  {
   "cell_type": "code",
   "execution_count": 36,
   "id": "24a18e3a-5878-4a02-b313-9c0ce9769045",
   "metadata": {},
   "outputs": [
    {
     "data": {
      "image/png": "[encoded data removed]",
      "text/plain": [
       "<Figure size 432x288 with 1 Axes>"
      ]
     },
     "metadata": {
      "needs_background": "light"
     },
     "output_type": "display_data"
    }
   ],
   "source": [
    "sns.barplot(x = DN1.index, y = DN1.DepartmentNameLatecount)\n",
    "plt.xticks(rotation=70)\n",
    "plt.tight_layout()"
   ]
  },
  {
   "cell_type": "markdown",
   "id": "55cf104e-123b-4887-82a6-1407f7c39e21",
   "metadata": {},
   "source": [
    "## Market"
   ]
  },
  {
   "cell_type": "code",
   "execution_count": 37,
   "id": "16053f92-c0c9-47eb-887a-9a6803b5c329",
   "metadata": {},
   "outputs": [],
   "source": [
    "# Market for late deliveries.\n",
    "dataMarket= {'MarketLatecount':Late_Deliveries_Table.groupby('Market').size(),\n",
    "       'MarketLateMaincount':MainTable.groupby('Market').size(),\n",
    "      'Percentages':Late_Deliveries_Table.groupby('Market').size()*100/MainTable.groupby('Market').size()}"
   ]
  },
  {
   "cell_type": "code",
   "execution_count": 38,
   "id": "f851ec5c-175a-4bb1-a290-96d189323553",
   "metadata": {},
   "outputs": [
    {
     "data": {
      "text/html": [
       "<div>\n",
       "<style scoped>\n",
       "    .dataframe tbody tr th:only-of-type {\n",
       "        vertical-align: middle;\n",
       "    }\n",
       "\n",
       "    .dataframe tbody tr th {\n",
       "        vertical-align: top;\n",
       "    }\n",
       "\n",
       "    .dataframe thead th {\n",
       "        text-align: right;\n",
       "    }\n",
       "</style>\n",
       "<table border=\"1\" class=\"dataframe\">\n",
       "  <thead>\n",
       "    <tr style=\"text-align: right;\">\n",
       "      <th></th>\n",
       "      <th>MarketLatecount</th>\n",
       "      <th>MarketLateMaincount</th>\n",
       "      <th>Percentages</th>\n",
       "    </tr>\n",
       "    <tr>\n",
       "      <th>Market</th>\n",
       "      <th></th>\n",
       "      <th></th>\n",
       "      <th></th>\n",
       "    </tr>\n",
       "  </thead>\n",
       "  <tbody>\n",
       "    <tr>\n",
       "      <th>Europe</th>\n",
       "      <td>27743</td>\n",
       "      <td>50252</td>\n",
       "      <td>55.207753</td>\n",
       "    </tr>\n",
       "    <tr>\n",
       "      <th>Pacific Asia</th>\n",
       "      <td>22712</td>\n",
       "      <td>41260</td>\n",
       "      <td>55.046049</td>\n",
       "    </tr>\n",
       "    <tr>\n",
       "      <th>USCA</th>\n",
       "      <td>14138</td>\n",
       "      <td>25799</td>\n",
       "      <td>54.800574</td>\n",
       "    </tr>\n",
       "    <tr>\n",
       "      <th>Africa</th>\n",
       "      <td>6340</td>\n",
       "      <td>11614</td>\n",
       "      <td>54.589289</td>\n",
       "    </tr>\n",
       "    <tr>\n",
       "      <th>LATAM</th>\n",
       "      <td>28044</td>\n",
       "      <td>51594</td>\n",
       "      <td>54.355158</td>\n",
       "    </tr>\n",
       "  </tbody>\n",
       "</table>\n",
       "</div>"
      ],
      "text/plain": [
       "              MarketLatecount  MarketLateMaincount  Percentages\n",
       "Market                                                         \n",
       "Europe                  27743                50252    55.207753\n",
       "Pacific Asia            22712                41260    55.046049\n",
       "USCA                    14138                25799    54.800574\n",
       "Africa                   6340                11614    54.589289\n",
       "LATAM                   28044                51594    54.355158"
      ]
     },
     "execution_count": 38,
     "metadata": {},
     "output_type": "execute_result"
    }
   ],
   "source": [
    "MarketLatecountPercetage=pd.DataFrame(dataMarket)\n",
    "M1=MarketLatecountPercetage.nlargest(10,'MarketLatecount').sort_values('Percentages',ascending=False)\n",
    "M1"
   ]
  },
  {
   "cell_type": "code",
   "execution_count": 39,
   "id": "cd4530bb-bc17-44ea-b7f3-0931e6031f64",
   "metadata": {},
   "outputs": [
    {
     "data": {
      "image/png": "[encoded data removed]",
      "text/plain": [
       "<Figure size 432x288 with 1 Axes>"
      ]
     },
     "metadata": {
      "needs_background": "light"
     },
     "output_type": "display_data"
    }
   ],
   "source": [
    "sns.barplot(x = M1.index, y = M1.MarketLatecount)\n",
    "plt.xticks(rotation=70)\n",
    "plt.tight_layout()"
   ]
  },
  {
   "cell_type": "code",
   "execution_count": 48,
   "id": "f48ed2f8-80d4-4c7e-b810-cc8c33665453",
   "metadata": {},
   "outputs": [],
   "source": [
    "# Latin America-LATAM\n",
    "# United States of Central America-USCA"
   ]
  },
  {
   "cell_type": "markdown",
   "id": "93e322ca-6764-4087-9d84-6a722e799b17",
   "metadata": {},
   "source": [
    "## Order City"
   ]
  },
  {
   "cell_type": "code",
   "execution_count": 40,
   "id": "2e96617b-8e46-49e0-8b9d-f9abf8ef1b04",
   "metadata": {},
   "outputs": [],
   "source": [
    "# Order City for late deliveries.\n",
    "dataOrderCity= {'OrderCityLatecount':Late_Deliveries_Table.groupby('Order City').size(),\n",
    "       'OrderCityLateMaincount':MainTable.groupby('Order City').size(),\n",
    "      'Percentages':Late_Deliveries_Table.groupby('Order City').size()*100/MainTable.groupby('Order City').size()}"
   ]
  },
  {
   "cell_type": "code",
   "execution_count": 41,
   "id": "d22276a5-8b96-41ce-9fe0-8e7f397662fe",
   "metadata": {},
   "outputs": [
    {
     "data": {
      "text/html": [
       "<div>\n",
       "<style scoped>\n",
       "    .dataframe tbody tr th:only-of-type {\n",
       "        vertical-align: middle;\n",
       "    }\n",
       "\n",
       "    .dataframe tbody tr th {\n",
       "        vertical-align: top;\n",
       "    }\n",
       "\n",
       "    .dataframe thead th {\n",
       "        text-align: right;\n",
       "    }\n",
       "</style>\n",
       "<table border=\"1\" class=\"dataframe\">\n",
       "  <thead>\n",
       "    <tr style=\"text-align: right;\">\n",
       "      <th></th>\n",
       "      <th>OrderCityLatecount</th>\n",
       "      <th>OrderCityLateMaincount</th>\n",
       "      <th>Percentages</th>\n",
       "    </tr>\n",
       "    <tr>\n",
       "      <th>Order City</th>\n",
       "      <th></th>\n",
       "      <th></th>\n",
       "      <th></th>\n",
       "    </tr>\n",
       "  </thead>\n",
       "  <tbody>\n",
       "    <tr>\n",
       "      <th>San Salvador</th>\n",
       "      <td>668.0</td>\n",
       "      <td>1135</td>\n",
       "      <td>58.854626</td>\n",
       "    </tr>\n",
       "    <tr>\n",
       "      <th>New York City</th>\n",
       "      <td>1261.0</td>\n",
       "      <td>2202</td>\n",
       "      <td>57.266122</td>\n",
       "    </tr>\n",
       "    <tr>\n",
       "      <th>London</th>\n",
       "      <td>672.0</td>\n",
       "      <td>1187</td>\n",
       "      <td>56.613311</td>\n",
       "    </tr>\n",
       "    <tr>\n",
       "      <th>Manila</th>\n",
       "      <td>766.0</td>\n",
       "      <td>1381</td>\n",
       "      <td>55.467053</td>\n",
       "    </tr>\n",
       "    <tr>\n",
       "      <th>Santo Domingo</th>\n",
       "      <td>1217.0</td>\n",
       "      <td>2211</td>\n",
       "      <td>55.042967</td>\n",
       "    </tr>\n",
       "    <tr>\n",
       "      <th>Managua</th>\n",
       "      <td>925.0</td>\n",
       "      <td>1682</td>\n",
       "      <td>54.994055</td>\n",
       "    </tr>\n",
       "    <tr>\n",
       "      <th>San Francisco</th>\n",
       "      <td>706.0</td>\n",
       "      <td>1297</td>\n",
       "      <td>54.433308</td>\n",
       "    </tr>\n",
       "    <tr>\n",
       "      <th>Mexico City</th>\n",
       "      <td>803.0</td>\n",
       "      <td>1484</td>\n",
       "      <td>54.110512</td>\n",
       "    </tr>\n",
       "    <tr>\n",
       "      <th>Tegucigalpa</th>\n",
       "      <td>942.0</td>\n",
       "      <td>1783</td>\n",
       "      <td>52.832305</td>\n",
       "    </tr>\n",
       "    <tr>\n",
       "      <th>Los Angeles</th>\n",
       "      <td>965.0</td>\n",
       "      <td>1845</td>\n",
       "      <td>52.303523</td>\n",
       "    </tr>\n",
       "  </tbody>\n",
       "</table>\n",
       "</div>"
      ],
      "text/plain": [
       "               OrderCityLatecount  OrderCityLateMaincount  Percentages\n",
       "Order City                                                            \n",
       "San Salvador                668.0                    1135    58.854626\n",
       "New York City              1261.0                    2202    57.266122\n",
       "London                      672.0                    1187    56.613311\n",
       "Manila                      766.0                    1381    55.467053\n",
       "Santo Domingo              1217.0                    2211    55.042967\n",
       "Managua                     925.0                    1682    54.994055\n",
       "San Francisco               706.0                    1297    54.433308\n",
       "Mexico City                 803.0                    1484    54.110512\n",
       "Tegucigalpa                 942.0                    1783    52.832305\n",
       "Los Angeles                 965.0                    1845    52.303523"
      ]
     },
     "execution_count": 41,
     "metadata": {},
     "output_type": "execute_result"
    }
   ],
   "source": [
    "OrderCityLatecountPercetage=pd.DataFrame(dataOrderCity)\n",
    "OC1=OrderCityLatecountPercetage.nlargest(10,'OrderCityLatecount').sort_values('Percentages',ascending=False)\n",
    "OC1"
   ]
  },
  {
   "cell_type": "code",
   "execution_count": 42,
   "id": "9aaaa8f7-8375-4725-b312-2a8e4efbbc8a",
   "metadata": {},
   "outputs": [
    {
     "data": {
      "image/png": "[encoded data removed]",
      "text/plain": [
       "<Figure size 432x288 with 1 Axes>"
      ]
     },
     "metadata": {
      "needs_background": "light"
     },
     "output_type": "display_data"
    }
   ],
   "source": [
    "sns.barplot(x = OC1.index, y = OC1.OrderCityLatecount)\n",
    "plt.xticks(rotation=70)\n",
    "plt.tight_layout()"
   ]
  },
  {
   "cell_type": "markdown",
   "id": "40736630-86fd-4a56-a6a2-c3bb2e153e75",
   "metadata": {},
   "source": [
    "## Order Country"
   ]
  },
  {
   "cell_type": "code",
   "execution_count": 43,
   "id": "c4b5a9ad-795a-488b-850a-80d4f59bbe7f",
   "metadata": {},
   "outputs": [],
   "source": [
    "#Order Country for late deliveries.\n",
    "dataOrderCountry= {'OrderCountryLatecount':Late_Deliveries_Table.groupby('Order Country').size(),\n",
    "       'OrderCountryLateMaincount':MainTable.groupby('Order Country').size(),\n",
    "      'Percentages':Late_Deliveries_Table.groupby('Order Country').size()*100/MainTable.groupby('Order Country').size()}"
   ]
  },
  {
   "cell_type": "code",
   "execution_count": 44,
   "id": "bcd5e8a7-16dd-4ea6-b458-a8310ac764c5",
   "metadata": {},
   "outputs": [
    {
     "data": {
      "text/html": [
       "<div>\n",
       "<style scoped>\n",
       "    .dataframe tbody tr th:only-of-type {\n",
       "        vertical-align: middle;\n",
       "    }\n",
       "\n",
       "    .dataframe tbody tr th {\n",
       "        vertical-align: top;\n",
       "    }\n",
       "\n",
       "    .dataframe thead th {\n",
       "        text-align: right;\n",
       "    }\n",
       "</style>\n",
       "<table border=\"1\" class=\"dataframe\">\n",
       "  <thead>\n",
       "    <tr style=\"text-align: right;\">\n",
       "      <th></th>\n",
       "      <th>OrderCountryLatecount</th>\n",
       "      <th>OrderCountryLateMaincount</th>\n",
       "      <th>Percentages</th>\n",
       "    </tr>\n",
       "    <tr>\n",
       "      <th>Order Country</th>\n",
       "      <th></th>\n",
       "      <th></th>\n",
       "      <th></th>\n",
       "    </tr>\n",
       "  </thead>\n",
       "  <tbody>\n",
       "    <tr>\n",
       "      <th>Alemania</th>\n",
       "      <td>5383.0</td>\n",
       "      <td>9564</td>\n",
       "      <td>56.283982</td>\n",
       "    </tr>\n",
       "    <tr>\n",
       "      <th>India</th>\n",
       "      <td>2684.0</td>\n",
       "      <td>4783</td>\n",
       "      <td>56.115409</td>\n",
       "    </tr>\n",
       "    <tr>\n",
       "      <th>Francia</th>\n",
       "      <td>7341.0</td>\n",
       "      <td>13222</td>\n",
       "      <td>55.521101</td>\n",
       "    </tr>\n",
       "    <tr>\n",
       "      <th>Estados Unidos</th>\n",
       "      <td>13670.0</td>\n",
       "      <td>24840</td>\n",
       "      <td>55.032206</td>\n",
       "    </tr>\n",
       "    <tr>\n",
       "      <th>MÃ©xico</th>\n",
       "      <td>7246.0</td>\n",
       "      <td>13172</td>\n",
       "      <td>55.010629</td>\n",
       "    </tr>\n",
       "    <tr>\n",
       "      <th>Australia</th>\n",
       "      <td>4613.0</td>\n",
       "      <td>8497</td>\n",
       "      <td>54.289749</td>\n",
       "    </tr>\n",
       "    <tr>\n",
       "      <th>China</th>\n",
       "      <td>3123.0</td>\n",
       "      <td>5758</td>\n",
       "      <td>54.237582</td>\n",
       "    </tr>\n",
       "    <tr>\n",
       "      <th>Brasil</th>\n",
       "      <td>4331.0</td>\n",
       "      <td>7987</td>\n",
       "      <td>54.225617</td>\n",
       "    </tr>\n",
       "    <tr>\n",
       "      <th>Italia</th>\n",
       "      <td>2672.0</td>\n",
       "      <td>4989</td>\n",
       "      <td>53.557827</td>\n",
       "    </tr>\n",
       "    <tr>\n",
       "      <th>Reino Unido</th>\n",
       "      <td>3903.0</td>\n",
       "      <td>7302</td>\n",
       "      <td>53.451109</td>\n",
       "    </tr>\n",
       "  </tbody>\n",
       "</table>\n",
       "</div>"
      ],
      "text/plain": [
       "                OrderCountryLatecount  OrderCountryLateMaincount  Percentages\n",
       "Order Country                                                                \n",
       "Alemania                       5383.0                       9564    56.283982\n",
       "India                          2684.0                       4783    56.115409\n",
       "Francia                        7341.0                      13222    55.521101\n",
       "Estados Unidos                13670.0                      24840    55.032206\n",
       "MÃ©xico                        7246.0                      13172    55.010629\n",
       "Australia                      4613.0                       8497    54.289749\n",
       "China                          3123.0                       5758    54.237582\n",
       "Brasil                         4331.0                       7987    54.225617\n",
       "Italia                         2672.0                       4989    53.557827\n",
       "Reino Unido                    3903.0                       7302    53.451109"
      ]
     },
     "execution_count": 44,
     "metadata": {},
     "output_type": "execute_result"
    }
   ],
   "source": [
    "OrderCountryLatecountPercetage=pd.DataFrame(dataOrderCountry)\n",
    "OC2=OrderCountryLatecountPercetage.nlargest(10,'OrderCountryLatecount').sort_values('Percentages',ascending=False)\n",
    "OC2"
   ]
  },
  {
   "cell_type": "code",
   "execution_count": 45,
   "id": "983a246b-69ab-47b2-83fc-6ace0ae1e402",
   "metadata": {},
   "outputs": [
    {
     "data": {
      "image/png": "[encoded data removed]",
      "text/plain": [
       "<Figure size 432x288 with 1 Axes>"
      ]
     },
     "metadata": {
      "needs_background": "light"
     },
     "output_type": "display_data"
    }
   ],
   "source": [
    "sns.barplot(x = OC2.index, y = OC2.OrderCountryLatecount)\n",
    "plt.xticks(rotation=70)\n",
    "plt.tight_layout()"
   ]
  },
  {
   "cell_type": "markdown",
   "id": "80b7a708-51a0-4220-bdfd-74e3bc7a720d",
   "metadata": {},
   "source": [
    "## Order Region"
   ]
  },
  {
   "cell_type": "code",
   "execution_count": 46,
   "id": "4f0c727c-e473-4235-9f5d-701e5dd6d8b8",
   "metadata": {},
   "outputs": [],
   "source": [
    "# Order Region for late deliveries.\n",
    "dataOrderRegion= {'OrderRegionLatecount':Late_Deliveries_Table.groupby('Order Region').size(),\n",
    "       'OrderRegionLateMaincount':MainTable.groupby('Order Region').size(),\n",
    "      'Percentages':Late_Deliveries_Table.groupby('Order Region').size()*100/MainTable.groupby('Order Region').size()}"
   ]
  },
  {
   "cell_type": "code",
   "execution_count": 47,
   "id": "35b55baf-c7f3-4920-9bb4-37a7411d70d2",
   "metadata": {},
   "outputs": [
    {
     "data": {
      "text/html": [
       "<div>\n",
       "<style scoped>\n",
       "    .dataframe tbody tr th:only-of-type {\n",
       "        vertical-align: middle;\n",
       "    }\n",
       "\n",
       "    .dataframe tbody tr th {\n",
       "        vertical-align: top;\n",
       "    }\n",
       "\n",
       "    .dataframe thead th {\n",
       "        text-align: right;\n",
       "    }\n",
       "</style>\n",
       "<table border=\"1\" class=\"dataframe\">\n",
       "  <thead>\n",
       "    <tr style=\"text-align: right;\">\n",
       "      <th></th>\n",
       "      <th>OrderRegionLatecount</th>\n",
       "      <th>OrderRegionLateMaincount</th>\n",
       "      <th>Percentages</th>\n",
       "    </tr>\n",
       "    <tr>\n",
       "      <th>Order Region</th>\n",
       "      <th></th>\n",
       "      <th></th>\n",
       "      <th></th>\n",
       "    </tr>\n",
       "  </thead>\n",
       "  <tbody>\n",
       "    <tr>\n",
       "      <th>South Asia</th>\n",
       "      <td>4350</td>\n",
       "      <td>7731</td>\n",
       "      <td>56.266977</td>\n",
       "    </tr>\n",
       "    <tr>\n",
       "      <th>Western Europe</th>\n",
       "      <td>15140</td>\n",
       "      <td>27109</td>\n",
       "      <td>55.848611</td>\n",
       "    </tr>\n",
       "    <tr>\n",
       "      <th>Southeast Asia</th>\n",
       "      <td>5297</td>\n",
       "      <td>9539</td>\n",
       "      <td>55.529930</td>\n",
       "    </tr>\n",
       "    <tr>\n",
       "      <th>Central America</th>\n",
       "      <td>15518</td>\n",
       "      <td>28341</td>\n",
       "      <td>54.754596</td>\n",
       "    </tr>\n",
       "    <tr>\n",
       "      <th>Southern Europe</th>\n",
       "      <td>5129</td>\n",
       "      <td>9431</td>\n",
       "      <td>54.384477</td>\n",
       "    </tr>\n",
       "    <tr>\n",
       "      <th>South America</th>\n",
       "      <td>8111</td>\n",
       "      <td>14935</td>\n",
       "      <td>54.308671</td>\n",
       "    </tr>\n",
       "    <tr>\n",
       "      <th>Northern Europe</th>\n",
       "      <td>5292</td>\n",
       "      <td>9792</td>\n",
       "      <td>54.044118</td>\n",
       "    </tr>\n",
       "    <tr>\n",
       "      <th>Oceania</th>\n",
       "      <td>5482</td>\n",
       "      <td>10148</td>\n",
       "      <td>54.020497</td>\n",
       "    </tr>\n",
       "    <tr>\n",
       "      <th>West of USA</th>\n",
       "      <td>4313</td>\n",
       "      <td>7993</td>\n",
       "      <td>53.959715</td>\n",
       "    </tr>\n",
       "    <tr>\n",
       "      <th>Caribbean</th>\n",
       "      <td>4415</td>\n",
       "      <td>8318</td>\n",
       "      <td>53.077663</td>\n",
       "    </tr>\n",
       "  </tbody>\n",
       "</table>\n",
       "</div>"
      ],
      "text/plain": [
       "                 OrderRegionLatecount  OrderRegionLateMaincount  Percentages\n",
       "Order Region                                                                \n",
       "South Asia                       4350                      7731    56.266977\n",
       "Western Europe                  15140                     27109    55.848611\n",
       "Southeast Asia                   5297                      9539    55.529930\n",
       "Central America                 15518                     28341    54.754596\n",
       "Southern Europe                  5129                      9431    54.384477\n",
       "South America                    8111                     14935    54.308671\n",
       "Northern Europe                  5292                      9792    54.044118\n",
       "Oceania                          5482                     10148    54.020497\n",
       "West of USA                      4313                      7993    53.959715\n",
       "Caribbean                        4415                      8318    53.077663"
      ]
     },
     "execution_count": 47,
     "metadata": {},
     "output_type": "execute_result"
    }
   ],
   "source": [
    "OrderRegionLatecountPercetage=pd.DataFrame(dataOrderRegion)\n",
    "OR1=OrderRegionLatecountPercetage.nlargest(10,'OrderRegionLatecount').sort_values('Percentages',ascending=False)\n",
    "OR1"
   ]
  },
  {
   "cell_type": "code",
   "execution_count": 48,
   "id": "29bd9f05-a2e4-4c5d-91bc-a38b3f044d0f",
   "metadata": {},
   "outputs": [
    {
     "data": {
      "image/png": "[encoded data removed]",
      "text/plain": [
       "<Figure size 432x288 with 1 Axes>"
      ]
     },
     "metadata": {
      "needs_background": "light"
     },
     "output_type": "display_data"
    }
   ],
   "source": [
    "sns.barplot(x = OR1.index, y = OR1.OrderRegionLatecount)\n",
    "plt.xticks(rotation=70)\n",
    "plt.tight_layout()"
   ]
  },
  {
   "cell_type": "markdown",
   "id": "59838a58-6842-44ea-b234-031443bf45cd",
   "metadata": {},
   "source": [
    "## Order State"
   ]
  },
  {
   "cell_type": "code",
   "execution_count": 49,
   "id": "604a5d16-cacd-4c81-a6ed-6301d5eb7967",
   "metadata": {},
   "outputs": [],
   "source": [
    "# Order State for late deliveries.\n",
    "dataOrderState= {'OrderStateLatecount':Late_Deliveries_Table.groupby('Order State').size(),\n",
    "       'OrderStateLateMaincount':MainTable.groupby('Order State').size(),\n",
    "      'Percentages':Late_Deliveries_Table.groupby('Order State').size()*100/MainTable.groupby('Order State').size()}"
   ]
  },
  {
   "cell_type": "code",
   "execution_count": 50,
   "id": "63b34fa4-79c7-41db-a002-f4668ae536cc",
   "metadata": {},
   "outputs": [
    {
     "data": {
      "text/html": [
       "<div>\n",
       "<style scoped>\n",
       "    .dataframe tbody tr th:only-of-type {\n",
       "        vertical-align: middle;\n",
       "    }\n",
       "\n",
       "    .dataframe tbody tr th {\n",
       "        vertical-align: top;\n",
       "    }\n",
       "\n",
       "    .dataframe thead th {\n",
       "        text-align: right;\n",
       "    }\n",
       "</style>\n",
       "<table border=\"1\" class=\"dataframe\">\n",
       "  <thead>\n",
       "    <tr style=\"text-align: right;\">\n",
       "      <th></th>\n",
       "      <th>OrderStateLatecount</th>\n",
       "      <th>OrderStateLateMaincount</th>\n",
       "      <th>Percentages</th>\n",
       "    </tr>\n",
       "    <tr>\n",
       "      <th>Order State</th>\n",
       "      <th></th>\n",
       "      <th></th>\n",
       "      <th></th>\n",
       "    </tr>\n",
       "  </thead>\n",
       "  <tbody>\n",
       "    <tr>\n",
       "      <th>Nueva York</th>\n",
       "      <td>1594.0</td>\n",
       "      <td>2753</td>\n",
       "      <td>57.900472</td>\n",
       "    </tr>\n",
       "    <tr>\n",
       "      <th>Queensland</th>\n",
       "      <td>1249.0</td>\n",
       "      <td>2186</td>\n",
       "      <td>57.136322</td>\n",
       "    </tr>\n",
       "    <tr>\n",
       "      <th>Distrito Federal</th>\n",
       "      <td>1455.0</td>\n",
       "      <td>2559</td>\n",
       "      <td>56.858148</td>\n",
       "    </tr>\n",
       "    <tr>\n",
       "      <th>Texas</th>\n",
       "      <td>1386.0</td>\n",
       "      <td>2446</td>\n",
       "      <td>56.663941</td>\n",
       "    </tr>\n",
       "    <tr>\n",
       "      <th>San Salvador</th>\n",
       "      <td>1727.0</td>\n",
       "      <td>3055</td>\n",
       "      <td>56.530278</td>\n",
       "    </tr>\n",
       "    <tr>\n",
       "      <th>Isla de Francia</th>\n",
       "      <td>2588.0</td>\n",
       "      <td>4580</td>\n",
       "      <td>56.506550</td>\n",
       "    </tr>\n",
       "    <tr>\n",
       "      <th>Renania del Norte-Westfalia</th>\n",
       "      <td>1850.0</td>\n",
       "      <td>3303</td>\n",
       "      <td>56.009688</td>\n",
       "    </tr>\n",
       "    <tr>\n",
       "      <th>California</th>\n",
       "      <td>2670.0</td>\n",
       "      <td>4966</td>\n",
       "      <td>53.765606</td>\n",
       "    </tr>\n",
       "    <tr>\n",
       "      <th>Inglaterra</th>\n",
       "      <td>3612.0</td>\n",
       "      <td>6722</td>\n",
       "      <td>53.734008</td>\n",
       "    </tr>\n",
       "    <tr>\n",
       "      <th>Nueva Gales del Sur</th>\n",
       "      <td>1243.0</td>\n",
       "      <td>2370</td>\n",
       "      <td>52.447257</td>\n",
       "    </tr>\n",
       "  </tbody>\n",
       "</table>\n",
       "</div>"
      ],
      "text/plain": [
       "                             OrderStateLatecount  OrderStateLateMaincount  \\\n",
       "Order State                                                                 \n",
       "Nueva York                                1594.0                     2753   \n",
       "Queensland                                1249.0                     2186   \n",
       "Distrito Federal                          1455.0                     2559   \n",
       "Texas                                     1386.0                     2446   \n",
       "San Salvador                              1727.0                     3055   \n",
       "Isla de Francia                           2588.0                     4580   \n",
       "Renania del Norte-Westfalia               1850.0                     3303   \n",
       "California                                2670.0                     4966   \n",
       "Inglaterra                                3612.0                     6722   \n",
       "Nueva Gales del Sur                       1243.0                     2370   \n",
       "\n",
       "                             Percentages  \n",
       "Order State                               \n",
       "Nueva York                     57.900472  \n",
       "Queensland                     57.136322  \n",
       "Distrito Federal               56.858148  \n",
       "Texas                          56.663941  \n",
       "San Salvador                   56.530278  \n",
       "Isla de Francia                56.506550  \n",
       "Renania del Norte-Westfalia    56.009688  \n",
       "California                     53.765606  \n",
       "Inglaterra                     53.734008  \n",
       "Nueva Gales del Sur            52.447257  "
      ]
     },
     "execution_count": 50,
     "metadata": {},
     "output_type": "execute_result"
    }
   ],
   "source": [
    "OrderStateLatecountPercetage=pd.DataFrame(dataOrderState)\n",
    "OS1=OrderStateLatecountPercetage.nlargest(10,'OrderStateLatecount').sort_values('Percentages',ascending=False)\n",
    "OS1"
   ]
  },
  {
   "cell_type": "code",
   "execution_count": 51,
   "id": "351451c7-525a-4eea-912d-10cf5f682142",
   "metadata": {},
   "outputs": [
    {
     "data": {
      "image/png": "[encoded data removed]",
      "text/plain": [
       "<Figure size 432x288 with 1 Axes>"
      ]
     },
     "metadata": {
      "needs_background": "light"
     },
     "output_type": "display_data"
    }
   ],
   "source": [
    "sns.barplot(x = OS1.index, y = OS1.OrderStateLatecount)\n",
    "plt.xticks(rotation=70)\n",
    "plt.tight_layout()"
   ]
  },
  {
   "cell_type": "code",
   "execution_count": null,
   "id": "37d2854c-5e90-48d5-9d59-1e6707e72f95",
   "metadata": {},
   "outputs": [],
   "source": [
    "# England - Inglaterra\n",
    "# New South Wales - Nueva Gales del Sur\n",
    "# North Rhine-Westphalia - Renania del Norte-Westfalia"
   ]
  },
  {
   "cell_type": "markdown",
   "id": "e5501663-dac2-44df-b312-69dfaee23ecd",
   "metadata": {},
   "source": [
    "## Order Status"
   ]
  },
  {
   "cell_type": "code",
   "execution_count": 52,
   "id": "8951d262-7936-47d1-be46-2a16b42a3b1f",
   "metadata": {},
   "outputs": [],
   "source": [
    "# Order Status for late deliveries.\n",
    "dataOrderStatus= {'OrderStatusLatecount':Late_Deliveries_Table.groupby('Order Status').size(),\n",
    "       'OrderStatusLateMaincount':MainTable.groupby('Order Status').size(),\n",
    "      'Percentages':Late_Deliveries_Table.groupby('Order Status').size()*100/MainTable.groupby('Order Status').size()}"
   ]
  },
  {
   "cell_type": "code",
   "execution_count": 53,
   "id": "72e27076-a8b7-4d25-8dd0-afea7bf1c411",
   "metadata": {},
   "outputs": [
    {
     "data": {
      "text/html": [
       "<div>\n",
       "<style scoped>\n",
       "    .dataframe tbody tr th:only-of-type {\n",
       "        vertical-align: middle;\n",
       "    }\n",
       "\n",
       "    .dataframe tbody tr th {\n",
       "        vertical-align: top;\n",
       "    }\n",
       "\n",
       "    .dataframe thead th {\n",
       "        text-align: right;\n",
       "    }\n",
       "</style>\n",
       "<table border=\"1\" class=\"dataframe\">\n",
       "  <thead>\n",
       "    <tr style=\"text-align: right;\">\n",
       "      <th></th>\n",
       "      <th>OrderStatusLatecount</th>\n",
       "      <th>OrderStatusLateMaincount</th>\n",
       "      <th>Percentages</th>\n",
       "    </tr>\n",
       "    <tr>\n",
       "      <th>Order Status</th>\n",
       "      <th></th>\n",
       "      <th></th>\n",
       "      <th></th>\n",
       "    </tr>\n",
       "  </thead>\n",
       "  <tbody>\n",
       "    <tr>\n",
       "      <th>PENDING</th>\n",
       "      <td>11712.0</td>\n",
       "      <td>20227</td>\n",
       "      <td>57.902803</td>\n",
       "    </tr>\n",
       "    <tr>\n",
       "      <th>PENDING_PAYMENT</th>\n",
       "      <td>22922.0</td>\n",
       "      <td>39832</td>\n",
       "      <td>57.546696</td>\n",
       "    </tr>\n",
       "    <tr>\n",
       "      <th>COMPLETE</th>\n",
       "      <td>34199.0</td>\n",
       "      <td>59491</td>\n",
       "      <td>57.486006</td>\n",
       "    </tr>\n",
       "    <tr>\n",
       "      <th>PAYMENT_REVIEW</th>\n",
       "      <td>1082.0</td>\n",
       "      <td>1893</td>\n",
       "      <td>57.157950</td>\n",
       "    </tr>\n",
       "    <tr>\n",
       "      <th>PROCESSING</th>\n",
       "      <td>12503.0</td>\n",
       "      <td>21902</td>\n",
       "      <td>57.086111</td>\n",
       "    </tr>\n",
       "    <tr>\n",
       "      <th>CLOSED</th>\n",
       "      <td>11109.0</td>\n",
       "      <td>19616</td>\n",
       "      <td>56.632341</td>\n",
       "    </tr>\n",
       "    <tr>\n",
       "      <th>ON_HOLD</th>\n",
       "      <td>5450.0</td>\n",
       "      <td>9804</td>\n",
       "      <td>55.589555</td>\n",
       "    </tr>\n",
       "  </tbody>\n",
       "</table>\n",
       "</div>"
      ],
      "text/plain": [
       "                 OrderStatusLatecount  OrderStatusLateMaincount  Percentages\n",
       "Order Status                                                                \n",
       "PENDING                       11712.0                     20227    57.902803\n",
       "PENDING_PAYMENT               22922.0                     39832    57.546696\n",
       "COMPLETE                      34199.0                     59491    57.486006\n",
       "PAYMENT_REVIEW                 1082.0                      1893    57.157950\n",
       "PROCESSING                    12503.0                     21902    57.086111\n",
       "CLOSED                        11109.0                     19616    56.632341\n",
       "ON_HOLD                        5450.0                      9804    55.589555"
      ]
     },
     "execution_count": 53,
     "metadata": {},
     "output_type": "execute_result"
    }
   ],
   "source": [
    "OrderStatusLatecountPercetage=pd.DataFrame(dataOrderStatus)\n",
    "OS2=OrderStatusLatecountPercetage.nlargest(10,'OrderStatusLatecount').sort_values('Percentages',ascending=False)\n",
    "OS2"
   ]
  },
  {
   "cell_type": "code",
   "execution_count": 54,
   "id": "e5b8c3c3-47e8-4f91-9105-13ecf1edf07d",
   "metadata": {},
   "outputs": [
    {
     "data": {
      "image/png": "[encoded data removed]",
      "text/plain": [
       "<Figure size 432x288 with 1 Axes>"
      ]
     },
     "metadata": {
      "needs_background": "light"
     },
     "output_type": "display_data"
    }
   ],
   "source": [
    "sns.barplot(x = OS2.index, y = OS2.OrderStatusLatecount)\n",
    "plt.xticks(rotation=70)\n",
    "plt.tight_layout()"
   ]
  },
  {
   "cell_type": "markdown",
   "id": "e351a015-aa39-447e-9dd9-1f7e8bbd4bd6",
   "metadata": {},
   "source": [
    "## Product Name"
   ]
  },
  {
   "cell_type": "code",
   "execution_count": 55,
   "id": "7a440697-f245-4ab0-b755-ae91521f8963",
   "metadata": {},
   "outputs": [],
   "source": [
    "# Product Name for late deliveries.\n",
    "dataProductName= {'ProductNameLatecount':Late_Deliveries_Table.groupby('Product Name').size(),\n",
    "       'ProductNameLateMaincount':MainTable.groupby('Product Name').size(),\n",
    "      'Percentages':Late_Deliveries_Table.groupby('Product Name').size()*100/MainTable.groupby('Product Name').size()}"
   ]
  },
  {
   "cell_type": "code",
   "execution_count": 56,
   "id": "a24296c9-a774-48b8-947c-0b9fe1e13f20",
   "metadata": {},
   "outputs": [
    {
     "data": {
      "text/html": [
       "<div>\n",
       "<style scoped>\n",
       "    .dataframe tbody tr th:only-of-type {\n",
       "        vertical-align: middle;\n",
       "    }\n",
       "\n",
       "    .dataframe tbody tr th {\n",
       "        vertical-align: top;\n",
       "    }\n",
       "\n",
       "    .dataframe thead th {\n",
       "        text-align: right;\n",
       "    }\n",
       "</style>\n",
       "<table border=\"1\" class=\"dataframe\">\n",
       "  <thead>\n",
       "    <tr style=\"text-align: right;\">\n",
       "      <th></th>\n",
       "      <th>ProductNameLatecount</th>\n",
       "      <th>ProductNameLateMaincount</th>\n",
       "      <th>Percentages</th>\n",
       "    </tr>\n",
       "    <tr>\n",
       "      <th>Product Name</th>\n",
       "      <th></th>\n",
       "      <th></th>\n",
       "      <th></th>\n",
       "    </tr>\n",
       "  </thead>\n",
       "  <tbody>\n",
       "    <tr>\n",
       "      <th>Under Armour Girls' Toddler Spine Surge Runni</th>\n",
       "      <td>5865</td>\n",
       "      <td>10617</td>\n",
       "      <td>55.241594</td>\n",
       "    </tr>\n",
       "    <tr>\n",
       "      <th>Perfect Fitness Perfect Rip Deck</th>\n",
       "      <td>13473</td>\n",
       "      <td>24515</td>\n",
       "      <td>54.958189</td>\n",
       "    </tr>\n",
       "    <tr>\n",
       "      <th>Field &amp; Stream Sportsman 16 Gun Fire Safe</th>\n",
       "      <td>9516</td>\n",
       "      <td>17325</td>\n",
       "      <td>54.926407</td>\n",
       "    </tr>\n",
       "    <tr>\n",
       "      <th>Pelican Sunstream 100 Kayak</th>\n",
       "      <td>8492</td>\n",
       "      <td>15500</td>\n",
       "      <td>54.787097</td>\n",
       "    </tr>\n",
       "    <tr>\n",
       "      <th>O'Brien Men's Neoprene Life Vest</th>\n",
       "      <td>10565</td>\n",
       "      <td>19298</td>\n",
       "      <td>54.746606</td>\n",
       "    </tr>\n",
       "    <tr>\n",
       "      <th>Nike Men's Dri-FIT Victory Golf Polo</th>\n",
       "      <td>11476</td>\n",
       "      <td>21035</td>\n",
       "      <td>54.556691</td>\n",
       "    </tr>\n",
       "    <tr>\n",
       "      <th>Diamondback Women's Serene Classic Comfort Bi</th>\n",
       "      <td>7487</td>\n",
       "      <td>13729</td>\n",
       "      <td>54.534198</td>\n",
       "    </tr>\n",
       "    <tr>\n",
       "      <th>Nike Men's CJ Elite 2 TD Football Cleat</th>\n",
       "      <td>12121</td>\n",
       "      <td>22246</td>\n",
       "      <td>54.486200</td>\n",
       "    </tr>\n",
       "    <tr>\n",
       "      <th>Nike Men's Free 5.0+ Running Shoe</th>\n",
       "      <td>6629</td>\n",
       "      <td>12169</td>\n",
       "      <td>54.474484</td>\n",
       "    </tr>\n",
       "    <tr>\n",
       "      <th>Fighting video games</th>\n",
       "      <td>455</td>\n",
       "      <td>838</td>\n",
       "      <td>54.295943</td>\n",
       "    </tr>\n",
       "  </tbody>\n",
       "</table>\n",
       "</div>"
      ],
      "text/plain": [
       "                                               ProductNameLatecount  \\\n",
       "Product Name                                                          \n",
       "Under Armour Girls' Toddler Spine Surge Runni                  5865   \n",
       "Perfect Fitness Perfect Rip Deck                              13473   \n",
       "Field & Stream Sportsman 16 Gun Fire Safe                      9516   \n",
       "Pelican Sunstream 100 Kayak                                    8492   \n",
       "O'Brien Men's Neoprene Life Vest                              10565   \n",
       "Nike Men's Dri-FIT Victory Golf Polo                          11476   \n",
       "Diamondback Women's Serene Classic Comfort Bi                  7487   \n",
       "Nike Men's CJ Elite 2 TD Football Cleat                       12121   \n",
       "Nike Men's Free 5.0+ Running Shoe                              6629   \n",
       "Fighting video games                                            455   \n",
       "\n",
       "                                               ProductNameLateMaincount  \\\n",
       "Product Name                                                              \n",
       "Under Armour Girls' Toddler Spine Surge Runni                     10617   \n",
       "Perfect Fitness Perfect Rip Deck                                  24515   \n",
       "Field & Stream Sportsman 16 Gun Fire Safe                         17325   \n",
       "Pelican Sunstream 100 Kayak                                       15500   \n",
       "O'Brien Men's Neoprene Life Vest                                  19298   \n",
       "Nike Men's Dri-FIT Victory Golf Polo                              21035   \n",
       "Diamondback Women's Serene Classic Comfort Bi                     13729   \n",
       "Nike Men's CJ Elite 2 TD Football Cleat                           22246   \n",
       "Nike Men's Free 5.0+ Running Shoe                                 12169   \n",
       "Fighting video games                                                838   \n",
       "\n",
       "                                               Percentages  \n",
       "Product Name                                                \n",
       "Under Armour Girls' Toddler Spine Surge Runni    55.241594  \n",
       "Perfect Fitness Perfect Rip Deck                 54.958189  \n",
       "Field & Stream Sportsman 16 Gun Fire Safe        54.926407  \n",
       "Pelican Sunstream 100 Kayak                      54.787097  \n",
       "O'Brien Men's Neoprene Life Vest                 54.746606  \n",
       "Nike Men's Dri-FIT Victory Golf Polo             54.556691  \n",
       "Diamondback Women's Serene Classic Comfort Bi    54.534198  \n",
       "Nike Men's CJ Elite 2 TD Football Cleat          54.486200  \n",
       "Nike Men's Free 5.0+ Running Shoe                54.474484  \n",
       "Fighting video games                             54.295943  "
      ]
     },
     "execution_count": 56,
     "metadata": {},
     "output_type": "execute_result"
    }
   ],
   "source": [
    "ProductNameLatecountPercetage=pd.DataFrame(dataProductName)\n",
    "PN1=ProductNameLatecountPercetage.nlargest(10,'ProductNameLatecount').sort_values('Percentages',ascending=False)\n",
    "PN1"
   ]
  },
  {
   "cell_type": "code",
   "execution_count": 57,
   "id": "1b24ff08-191e-481e-96fa-53891e4bfe89",
   "metadata": {},
   "outputs": [
    {
     "data": {
      "image/png": "[encoded data removed]",
      "text/plain": [
       "<Figure size 432x288 with 1 Axes>"
      ]
     },
     "metadata": {
      "needs_background": "light"
     },
     "output_type": "display_data"
    },
    {
     "data": {
      "text/plain": [
       "<Figure size 720x144 with 0 Axes>"
      ]
     },
     "metadata": {},
     "output_type": "display_data"
    }
   ],
   "source": [
    "sns.barplot(x = PN1.index, y = PN1.ProductNameLatecount)\n",
    "#plt.legend(('Under Armour Girls Toddler Spine Surge Runni', 'Perfect Fitness Perfect Rip Deck'))\n",
    "plt.xticks(rotation=90)\n",
    "# plotting a line plot after changing it's width and height\n",
    "f = plt.figure()\n",
    "f.set_figwidth(10)\n",
    "f.set_figheight(2)\n",
    "\n",
    "plt.tight_layout()"
   ]
  },
  {
   "cell_type": "markdown",
   "id": "4e20a6e9-5f4f-41af-b2f2-cd329e222971",
   "metadata": {},
   "source": [
    "## Shipping Mode"
   ]
  },
  {
   "cell_type": "code",
   "execution_count": 58,
   "id": "1ff97f0b-f6d7-41c4-bbf9-061bae5c581c",
   "metadata": {},
   "outputs": [],
   "source": [
    "# Shipping Mode for late deliveries.\n",
    "dataShippingMode= {'ShippingModeLatecount':Late_Deliveries_Table.groupby('Shipping Mode').size(),\n",
    "       'ShippingModeLateMaincount':MainTable.groupby('Shipping Mode').size(),\n",
    "      'Percentages':Late_Deliveries_Table.groupby('Shipping Mode').size()*100/MainTable.groupby('Shipping Mode').size()}"
   ]
  },
  {
   "cell_type": "code",
   "execution_count": 59,
   "id": "99789271-678c-4276-b3a6-8ae244468ef5",
   "metadata": {},
   "outputs": [
    {
     "data": {
      "text/html": [
       "<div>\n",
       "<style scoped>\n",
       "    .dataframe tbody tr th:only-of-type {\n",
       "        vertical-align: middle;\n",
       "    }\n",
       "\n",
       "    .dataframe tbody tr th {\n",
       "        vertical-align: top;\n",
       "    }\n",
       "\n",
       "    .dataframe thead th {\n",
       "        text-align: right;\n",
       "    }\n",
       "</style>\n",
       "<table border=\"1\" class=\"dataframe\">\n",
       "  <thead>\n",
       "    <tr style=\"text-align: right;\">\n",
       "      <th></th>\n",
       "      <th>ShippingModeLatecount</th>\n",
       "      <th>ShippingModeLateMaincount</th>\n",
       "      <th>Percentages</th>\n",
       "    </tr>\n",
       "    <tr>\n",
       "      <th>Shipping Mode</th>\n",
       "      <th></th>\n",
       "      <th></th>\n",
       "      <th></th>\n",
       "    </tr>\n",
       "  </thead>\n",
       "  <tbody>\n",
       "    <tr>\n",
       "      <th>First Class</th>\n",
       "      <td>26513</td>\n",
       "      <td>27814</td>\n",
       "      <td>95.322499</td>\n",
       "    </tr>\n",
       "    <tr>\n",
       "      <th>Second Class</th>\n",
       "      <td>26987</td>\n",
       "      <td>35216</td>\n",
       "      <td>76.632781</td>\n",
       "    </tr>\n",
       "    <tr>\n",
       "      <th>Same Day</th>\n",
       "      <td>4454</td>\n",
       "      <td>9737</td>\n",
       "      <td>45.743042</td>\n",
       "    </tr>\n",
       "    <tr>\n",
       "      <th>Standard Class</th>\n",
       "      <td>41023</td>\n",
       "      <td>107752</td>\n",
       "      <td>38.071683</td>\n",
       "    </tr>\n",
       "  </tbody>\n",
       "</table>\n",
       "</div>"
      ],
      "text/plain": [
       "                ShippingModeLatecount  ShippingModeLateMaincount  Percentages\n",
       "Shipping Mode                                                                \n",
       "First Class                     26513                      27814    95.322499\n",
       "Second Class                    26987                      35216    76.632781\n",
       "Same Day                         4454                       9737    45.743042\n",
       "Standard Class                  41023                     107752    38.071683"
      ]
     },
     "execution_count": 59,
     "metadata": {},
     "output_type": "execute_result"
    }
   ],
   "source": [
    "ShippingModeLatecountPercetage=pd.DataFrame(dataShippingMode)\n",
    "SM1=ShippingModeLatecountPercetage.nlargest(10,'ShippingModeLatecount').sort_values('Percentages',ascending=False)\n",
    "SM1"
   ]
  },
  {
   "cell_type": "code",
   "execution_count": 60,
   "id": "af1e9322-8c53-4f55-9d61-042bc63141d0",
   "metadata": {},
   "outputs": [
    {
     "data": {
      "image/png": "[encoded data removed]",
      "text/plain": [
       "<Figure size 432x288 with 1 Axes>"
      ]
     },
     "metadata": {
      "needs_background": "light"
     },
     "output_type": "display_data"
    }
   ],
   "source": [
    "sns.barplot(x = SM1.index, y = SM1.ShippingModeLatecount)\n",
    "plt.xticks(rotation=70)\n",
    "plt.tight_layout()"
   ]
  },
  {
   "cell_type": "code",
   "execution_count": 61,
   "id": "2ac5533b-7f07-425f-b241-7492b16b5e80",
   "metadata": {},
   "outputs": [
    {
     "data": {
      "image/png": "[encoded data removed]",
      "text/plain": [
       "<Figure size 432x288 with 1 Axes>"
      ]
     },
     "metadata": {
      "needs_background": "light"
     },
     "output_type": "display_data"
    }
   ],
   "source": [
    "sns.barplot(x = SM1.index, y = SM1.Percentages)\n",
    "plt.xticks(rotation=70)\n",
    "plt.tight_layout()"
   ]
  },
  {
   "cell_type": "code",
   "execution_count": 84,
   "id": "9de0ed03-30c2-4379-81d1-4d4911e8a2b5",
   "metadata": {},
   "outputs": [],
   "source": [
    "# 95% of 1st class deliveries are late."
   ]
  },
  {
   "cell_type": "code",
   "execution_count": 62,
   "id": "c65c84bb-d9b1-4551-a322-e6871cbcf610",
   "metadata": {},
   "outputs": [
    {
     "data": {
      "text/plain": [
       "([<matplotlib.patches.Wedge at 0x7fc21fe129d0>,\n",
       "  <matplotlib.patches.Wedge at 0x7fc21fe15160>,\n",
       "  <matplotlib.patches.Wedge at 0x7fc21fe15880>,\n",
       "  <matplotlib.patches.Wedge at 0x7fc21fe15fa0>],\n",
       " [Text(0.7329473144388031, 0.8202366940444366, 'First Class'),\n",
       "  Text(-0.9066691132654292, 0.6228572220424844, 'Second Class'),\n",
       "  Text(-1.014860620869934, -0.4243323228408273, 'Same Day'),\n",
       "  Text(0.2920263800652886, -1.0605284500408105, 'Standard Class')],\n",
       " [Text(0.3997894442393471, 0.44740183311514714, '27%'),\n",
       "  Text(-0.4945467890538704, 0.33974030293226415, '27%'),\n",
       "  Text(-0.5535603386563276, -0.23145399427681485, '5%'),\n",
       "  Text(0.15928711639924828, -0.5784700636586239, '41%')])"
      ]
     },
     "execution_count": 62,
     "metadata": {},
     "output_type": "execute_result"
    },
    {
     "data": {
      "image/png": "[encoded data removed]",
      "text/plain": [
       "<Figure size 432x288 with 1 Axes>"
      ]
     },
     "metadata": {},
     "output_type": "display_data"
    }
   ],
   "source": [
    "labels = ['First Class', 'Second Class', 'Same Day', 'Standard Class']\n",
    "#define Seaborn color palette to use\n",
    "colors = sns.color_palette('pastel')[0:5]\n",
    "plt.pie(SM1.ShippingModeLatecount, labels = labels, colors = colors, autopct='%.0f%%')"
   ]
  },
  {
   "cell_type": "code",
   "execution_count": 63,
   "id": "99f2a26c-9dde-4dc7-92d3-2391729f76eb",
   "metadata": {},
   "outputs": [
    {
     "data": {
      "text/plain": [
       "([<matplotlib.patches.Wedge at 0x7fc21ff12d60>,\n",
       "  <matplotlib.patches.Wedge at 0x7fc21ff14520>,\n",
       "  <matplotlib.patches.Wedge at 0x7fc21ff14c40>,\n",
       "  <matplotlib.patches.Wedge at 0x7fc222483760>],\n",
       " [Text(0.4283210967091617, 1.013183615202033, 'First Class'),\n",
       "  Text(-1.089029613881431, -0.15496612561866951, 'Second Class'),\n",
       "  Text(0.08097453197051206, -1.0970155537512478, 'Same Day'),\n",
       "  Text(0.9819029301007416, -0.49584940844935826, 'Standard Class')],\n",
       " [Text(0.23362968911408816, 0.5526456082920179, '37%'),\n",
       "  Text(-0.5940161530262351, -0.08452697761018337, '30%'),\n",
       "  Text(0.04416792652937021, -0.5983721202279533, '18%'),\n",
       "  Text(0.5355834164185862, -0.27046331369964993, '15%')])"
      ]
     },
     "execution_count": 63,
     "metadata": {},
     "output_type": "execute_result"
    },
    {
     "data": {
      "image/png": "[encoded data removed]",
      "text/plain": [
       "<Figure size 432x288 with 1 Axes>"
      ]
     },
     "metadata": {},
     "output_type": "display_data"
    }
   ],
   "source": [
    "labels = ['First Class', 'Second Class', 'Same Day', 'Standard Class']\n",
    "#define Seaborn color palette to use\n",
    "colors = sns.color_palette('pastel')[0:5]\n",
    "plt.pie(SM1.Percentages, labels = labels, colors = colors, autopct='%.0f%%')"
   ]
  },
  {
   "cell_type": "code",
   "execution_count": 89,
   "id": "1d7fafab-f4c7-408d-873f-af50deb677db",
   "metadata": {},
   "outputs": [],
   "source": [
    "# above pie chart show the contribution of late delivery percentage."
   ]
  },
  {
   "cell_type": "markdown",
   "id": "fe68ddff-8c8c-4a02-b9f4-82309fe25f29",
   "metadata": {
    "tags": []
   },
   "source": [
    "## late delivery trend year and month wise"
   ]
  },
  {
   "cell_type": "code",
   "execution_count": 64,
   "id": "ce959835-5d7e-480a-9449-c486a8dd6f2d",
   "metadata": {},
   "outputs": [
    {
     "name": "stderr",
     "output_type": "stream",
     "text": [
      "/var/folders/q1/98blz7rd14919ljz9jk87sjh0000gn/T/ipykernel_12187/2272286745.py:1: SettingWithCopyWarning: \n",
      "A value is trying to be set on a copy of a slice from a DataFrame.\n",
      "Try using .loc[row_indexer,col_indexer] = value instead\n",
      "\n",
      "See the caveats in the documentation: https://pandas.pydata.org/pandas-docs/stable/user_guide/indexing.html#returning-a-view-versus-a-copy\n",
      "  Late_Deliveries_Table['order date (DateOrders)']=pd.to_datetime(Late_Deliveries_Table['order date (DateOrders)'])\n"
     ]
    },
    {
     "data": {
      "text/plain": [
       "1        2018-01-13 12:27:00\n",
       "6        2018-01-13 10:42:00\n",
       "7        2018-01-13 10:21:00\n",
       "8        2018-01-13 10:00:00\n",
       "9        2018-01-13 09:39:00\n",
       "                 ...        \n",
       "180507   2016-01-16 09:16:00\n",
       "180508   2016-01-16 07:10:00\n",
       "180512   2016-01-16 06:07:00\n",
       "180515   2016-01-16 01:34:00\n",
       "180516   2016-01-15 21:00:00\n",
       "Name: order date (DateOrders), Length: 98977, dtype: datetime64[ns]"
      ]
     },
     "execution_count": 64,
     "metadata": {},
     "output_type": "execute_result"
    }
   ],
   "source": [
    "Late_Deliveries_Table['order date (DateOrders)']=pd.to_datetime(Late_Deliveries_Table['order date (DateOrders)'])\n",
    "Late_Deliveries_Table['order date (DateOrders)']"
   ]
  },
  {
   "cell_type": "code",
   "execution_count": 65,
   "id": "f0c37fa2-eb36-4666-bae6-60eb6151a6b6",
   "metadata": {},
   "outputs": [
    {
     "name": "stderr",
     "output_type": "stream",
     "text": [
      "/var/folders/q1/98blz7rd14919ljz9jk87sjh0000gn/T/ipykernel_12187/2100690180.py:1: SettingWithCopyWarning: \n",
      "A value is trying to be set on a copy of a slice from a DataFrame.\n",
      "Try using .loc[row_indexer,col_indexer] = value instead\n",
      "\n",
      "See the caveats in the documentation: https://pandas.pydata.org/pandas-docs/stable/user_guide/indexing.html#returning-a-view-versus-a-copy\n",
      "  Late_Deliveries_Table['Month']=Late_Deliveries_Table['order date (DateOrders)'].dt.strftime('%b')\n"
     ]
    },
    {
     "data": {
      "text/plain": [
       "1         Jan\n",
       "6         Jan\n",
       "7         Jan\n",
       "8         Jan\n",
       "9         Jan\n",
       "         ... \n",
       "180507    Jan\n",
       "180508    Jan\n",
       "180512    Jan\n",
       "180515    Jan\n",
       "180516    Jan\n",
       "Name: Month, Length: 98977, dtype: object"
      ]
     },
     "execution_count": 65,
     "metadata": {},
     "output_type": "execute_result"
    }
   ],
   "source": [
    "Late_Deliveries_Table['Month']=Late_Deliveries_Table['order date (DateOrders)'].dt.strftime('%b')\n",
    "Late_Deliveries_Table['Month']"
   ]
  },
  {
   "cell_type": "code",
   "execution_count": 66,
   "id": "511fdf19-d89c-4120-95bc-cae3814faf44",
   "metadata": {},
   "outputs": [
    {
     "data": {
      "text/plain": [
       "0                        NaT\n",
       "1        2018-01-13 12:27:00\n",
       "2                        NaT\n",
       "3                        NaT\n",
       "4                        NaT\n",
       "                 ...        \n",
       "180514                   NaT\n",
       "180515   2016-01-16 01:34:00\n",
       "180516   2016-01-15 21:00:00\n",
       "180517                   NaT\n",
       "180518                   NaT\n",
       "Name: order date (DateOrders), Length: 180519, dtype: datetime64[ns]"
      ]
     },
     "execution_count": 66,
     "metadata": {},
     "output_type": "execute_result"
    }
   ],
   "source": [
    "MainTable['order date (DateOrders)']=pd.to_datetime(Late_Deliveries_Table['order date (DateOrders)'])\n",
    "MainTable['order date (DateOrders)']"
   ]
  },
  {
   "cell_type": "markdown",
   "id": "76e4a377-40ef-41d3-9405-05ab8e3c2ee0",
   "metadata": {},
   "source": [
    "## Month"
   ]
  },
  {
   "cell_type": "code",
   "execution_count": 67,
   "id": "1e311b46-f8a7-4e3b-b5dc-1a387e4c0fb2",
   "metadata": {},
   "outputs": [],
   "source": [
    "# Month for late deliveries.\n",
    "dataMonth= Late_Deliveries_Table.groupby('Month').size()"
   ]
  },
  {
   "cell_type": "code",
   "execution_count": 165,
   "id": "cac24398-b8df-4d96-867d-4a1c396bc334",
   "metadata": {},
   "outputs": [
    {
     "data": {
      "text/plain": [
       "Month\n",
       "Apr    8378\n",
       "Aug    8878\n",
       "Dec    7063\n",
       "Feb    7926\n",
       "Jan    9827\n",
       "Jul    8607\n",
       "Jun    8300\n",
       "Mar    8796\n",
       "May    8745\n",
       "Nov    6819\n",
       "Oct    7073\n",
       "Sep    8565\n",
       "dtype: int64"
      ]
     },
     "execution_count": 165,
     "metadata": {},
     "output_type": "execute_result"
    }
   ],
   "source": [
    "dataMonth"
   ]
  },
  {
   "cell_type": "code",
   "execution_count": 68,
   "id": "26577278-6cf5-4b96-939d-789dbe54df0c",
   "metadata": {},
   "outputs": [],
   "source": [
    "#dataMonth.plot(kind = \"bar\")\n",
    "sort_order=['Jan','Feb','Mar','Apr','May','Jun',\n",
    "           'Jul','Aug','Sep','Oct','Nov','Dec']\n",
    "dataMonth.index=pd.CategoricalIndex(dataMonth.index, categories=sort_order,ordered=True)"
   ]
  },
  {
   "cell_type": "code",
   "execution_count": 69,
   "id": "cbe2c4d9-3dbf-4957-97ed-3eb6420c9c62",
   "metadata": {},
   "outputs": [
    {
     "data": {
      "text/plain": [
       "Month\n",
       "Jan    9827\n",
       "Feb    7926\n",
       "Mar    8796\n",
       "Apr    8378\n",
       "May    8745\n",
       "Jun    8300\n",
       "Jul    8607\n",
       "Aug    8878\n",
       "Sep    8565\n",
       "Oct    7073\n",
       "Nov    6819\n",
       "Dec    7063\n",
       "dtype: int64"
      ]
     },
     "execution_count": 69,
     "metadata": {},
     "output_type": "execute_result"
    }
   ],
   "source": [
    "dataMonth.sort_index()"
   ]
  },
  {
   "cell_type": "code",
   "execution_count": 70,
   "id": "c2da3690-8d06-408b-97d6-262e11b5bdb4",
   "metadata": {},
   "outputs": [
    {
     "data": {
      "image/png": "[encoded data removed]",
      "text/plain": [
       "<Figure size 432x288 with 1 Axes>"
      ]
     },
     "metadata": {
      "needs_background": "light"
     },
     "output_type": "display_data"
    }
   ],
   "source": [
    "sns.barplot(x = dataMonth.index, y = dataMonth.values)\n",
    "plt.xticks(rotation=70)\n",
    "plt.tight_layout()\n",
    "#x = dataMonth.Month, y = dataMonth.values"
   ]
  },
  {
   "cell_type": "code",
   "execution_count": 121,
   "id": "432d995d-5c48-4e32-9fa9-32125b56b9db",
   "metadata": {},
   "outputs": [],
   "source": [
    "#Late_Deliveries_Table['Month'].hist(by=Late_Deliveries_Table['Month'])"
   ]
  },
  {
   "cell_type": "code",
   "execution_count": null,
   "id": "5e2a58d4-88a4-433d-bfe2-4dc81d9475ed",
   "metadata": {},
   "outputs": [],
   "source": []
  }
 ],
 "metadata": {
  "kernelspec": {
   "display_name": "Python 3 (ipykernel)",
   "language": "python",
   "name": "python3"
  },
  "language_info": {
   "codemirror_mode": {
    "name": "ipython",
    "version": 3
   },
   "file_extension": ".py",
   "mimetype": "text/x-python",
   "name": "python",
   "nbconvert_exporter": "python",
   "pygments_lexer": "ipython3",
   "version": "3.9.7"
  }
 },
 "nbformat": 4,
 "nbformat_minor": 5
}
